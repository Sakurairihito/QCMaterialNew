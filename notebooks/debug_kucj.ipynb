{
 "cells": [
  {
   "cell_type": "code",
   "execution_count": 6,
   "metadata": {},
   "outputs": [
    {
     "data": {
      "text/plain": [
       "1.1 [X0 Y3]"
      ]
     },
     "execution_count": 6,
     "metadata": {},
     "output_type": "execute_result"
    }
   ],
   "source": [
    "import numpy as np\n",
    "\n",
    "# +\n",
    "import openfermion\n",
    "\n",
    "from openfermion.ops import QubitOperator\n",
    "from openfermion.ops import FermionOperator\n",
    "# -\n",
    "\n",
    "ham = ((QubitOperator('X0 Y3', 0.5)\n",
    "        + 0.6 * QubitOperator('X0 Y3')))\n",
    "# Equivalently\n",
    "ham2 = QubitOperator('X0 Y3', 0.5)\n",
    "ham2 += 0.6 * QubitOperator('X0 Y3')\n",
    "\n",
    "ham2\n"
   ]
  },
  {
   "cell_type": "code",
   "execution_count": 8,
   "metadata": {},
   "outputs": [
    {
     "data": {
      "text/plain": [
       "0.25j [] +\n",
       "-0.25j [Z1] +\n",
       "0.25j [Z1 Z2] +\n",
       "-0.25j [Z2]"
      ]
     },
     "execution_count": 8,
     "metadata": {},
     "output_type": "execute_result"
    }
   ],
   "source": [
    "generator = FermionOperator([(2, 1), (1, 1), (1, 0), (2, 0)], 1.0j)\n",
    "generator = openfermion.transforms.jordan_wigner(generator)\n",
    "generator"
   ]
  },
  {
   "cell_type": "code",
   "execution_count": 10,
   "metadata": {},
   "outputs": [
    {
     "data": {
      "text/plain": [
       "1j [Z1] +\n",
       "1j [Z1 Z2] +\n",
       "1j [Z2]"
      ]
     },
     "execution_count": 10,
     "metadata": {},
     "output_type": "execute_result"
    }
   ],
   "source": [
    "\n",
    "op1 = QubitOperator(\"\", 0.0)\n",
    "\n",
    "for (k, v) in generator.terms.items():\n",
    "    if not k:\n",
    "        continue\n",
    "    #print(k)\n",
    "    tmpop = QubitOperator(\"\", 1.0)\n",
    "    for (i, o) in k:\n",
    "        myop = QubitOperator(f\"{o}{i}\", 1.0)\n",
    "        tmpop *= myop\n",
    "    tmpop *= QubitOperator(\"\", 1.0j)\n",
    "    #print(\"tmpop\",tmpop)\n",
    "    op1 += tmpop\n",
    "\n",
    "op1"
   ]
  },
  {
   "cell_type": "code",
   "execution_count": 12,
   "metadata": {},
   "outputs": [
    {
     "data": {
      "text/plain": [
       "{(): 0.0, ((2, 'Z'),): 1j, ((1, 'Z'),): 1j, ((1, 'Z'), (2, 'Z')): 1j}"
      ]
     },
     "execution_count": 12,
     "metadata": {},
     "output_type": "execute_result"
    }
   ],
   "source": [
    "op1.terms"
   ]
  },
  {
   "cell_type": "code",
   "execution_count": null,
   "metadata": {},
   "outputs": [],
   "source": []
  }
 ],
 "metadata": {
  "interpreter": {
   "hash": "fa1fa25d85151b9238fa987b4a0c9709a65cfc8d5b9f2a9cc36abdf56d63064e"
  },
  "kernelspec": {
   "display_name": "Python 3.9.7 ('base')",
   "language": "python",
   "name": "python3"
  },
  "language_info": {
   "codemirror_mode": {
    "name": "ipython",
    "version": 3
   },
   "file_extension": ".py",
   "mimetype": "text/x-python",
   "name": "python",
   "nbconvert_exporter": "python",
   "pygments_lexer": "ipython3",
   "version": "3.9.7"
  },
  "orig_nbformat": 4
 },
 "nbformat": 4,
 "nbformat_minor": 2
}
