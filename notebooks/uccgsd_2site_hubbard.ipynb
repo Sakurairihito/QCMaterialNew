{
 "cells": [
  {
   "cell_type": "markdown",
   "metadata": {},
   "source": [
    "## 必要なプログラムパッケージのインストール\n",
    "\n",
    "まず、Pythonにpyscf, qulacs, openfermion, openfermion-pyscfをインストールする。(qulacsのインストールにはgcc7以上が必要。)\n",
    "```\n",
    "pip install pyscf openfermion\n",
    "pip install openfermionpyscf\n",
    "pip install qulacs\n",
    "```\n",
    "\n",
    "その後JuliaやPyCall.jlの導入。。。。\n",
    "この他にもscipyやmatplotlibをこのノートでは使用している。"
   ]
  },
  {
   "cell_type": "code",
   "execution_count": null,
   "metadata": {},
   "outputs": [],
   "source": [
    "import Revise"
   ]
  },
  {
   "cell_type": "code",
   "execution_count": null,
   "metadata": {},
   "outputs": [],
   "source": [
    "#import QCMaterial: uccgsd, convert_openfermion_op, up_index, down_index, update_circuit_param!, update_quantum_state!\n",
    "using QCMaterial\n",
    "using PyCall\n",
    "scipy_opt = pyimport(\"scipy.optimize\")"
   ]
  },
  {
   "cell_type": "markdown",
   "metadata": {},
   "source": [
    "## 2-site Hubbard modelのハミルトニアンを定義する。\n",
    "\n",
    "$H=-t \\sum_{\\langle i, j>\\sigma=(\\uparrow, \\downarrow)} \\sum_{i, \\sigma}\\left(a_{i, \\sigma}^{\\dagger} a_{j, \\sigma}+a_{j, \\sigma}^{\\dagger} a_{i, \\sigma}\\right)+U \\sum_{i} n_{i, \\uparrow} n_{i, \\downarrow}-\\mu \\sum_{i} \\sum_{\\sigma=(\\uparrow, \\downarrow)} n_{i, \\sigma}$\n",
    "\n",
    "$1_\\uparrow$->0,$1_\\downarrow$->1, $2_\\uparrow$->2, $2_\\downarrow$->3\n",
    "\n",
    "クーロン斥力(U=2): 2 * $n_{1,\\uparrow}$ $n_{1,\\downarrow}$ + 2 * $n_{2,\\uparrow}$ $n_{2,\\downarrow}$ \n",
    "               = 2 * $c^\\dagger_0$ $c_0$ $c^\\dagger_1$ $c_1$ + 2 * $c^\\dagger_2$ $c_2$ $c^\\dagger_3$ $c_3$\n",
    " \n",
    "ホッピング項(t=-0.1): -0.1 * $c^\\dagger_{1,\\uparrow}$ $c_{2,\\uparrow}$ -0.1 * $c^\\dagger_{2,\\uparrow}$ $c_{1,\\uparrow}$\n",
    "                   -0.1 * $c^\\dagger_{1,\\downarrow}$ $c_{2,\\downarrow}$ -0.1 * $c^\\dagger_{2,\\downarrow}$ $c_{1,\\downarrow}$\n",
    "  = -0.1 * $c^\\dagger_0$ $c_2$ + -0.1 * $c^\\dagger_2$ $c_0$ + -0.1 * $c^\\dagger_1$ $c_3$ + -0.1 * $c_3^\\dagger$ $c_1$\n",
    "\n",
    "ケミカルポテンシャル項(μ=U/2=1):-1 * $n_{1,\\uparrow}$ - 1 * $n_{1,\\downarrow}$ - 1 * $n_{2,\\uparrow}$ - 1 * $n_{2,\\downarrow}$ \n",
    "               = - 1 * $c^\\dagger_0$ $c_0$ - 1 * $c^\\dagger_1$ $c_1$ - 1 * $c^\\dagger_2$ $c_2$ - 1 * $c^\\dagger_3$ $c_3$"
   ]
  },
  {
   "cell_type": "code",
   "execution_count": null,
   "metadata": {},
   "outputs": [],
   "source": [
    "#ハバードモデルハミルトニアンを定義し、対角化まで行う\n",
    "nsite = 2 #サイトの数\n",
    "n_qubit = 2*nsite #量子ビットの数\n",
    "U = 0.0\n",
    "t = -2.0\n",
    "\n",
    "#ハーフフィリングを仮定(電子数 = サイトの数)するとケミカルポテンシャルはμ=U/2.マイナスがつくので以下。\n",
    "μ = U/2\n",
    "\n",
    "ham = FermionOperator()\n",
    "#斥力項\n",
    "for i in 1:nsite\n",
    "    #up_index,down_indexの定義は、QC_materialを参照。\n",
    "    up = up_index(i)\n",
    "    down = down_index(i)\n",
    "    ham += FermionOperator(\"$(up)^ $(down)^ $(up) $(down)\", -U) #左側に生成演算子。右際に消滅演算子をもっていく過程で半交換関係が1回でマイナスをつける。\n",
    "end\n",
    "#ホッピング項\n",
    "for i in 1:nsite-1\n",
    "    ham += FermionOperator(\"$(up_index(i+1))^ $(up_index(i))\", t) \n",
    "    ham += FermionOperator(\"$(up_index(i))^ $(up_index(i+1))\", t) \n",
    "    ham += FermionOperator(\"$(down_index(i+1))^ $(down_index(i))\", t) \n",
    "    ham += FermionOperator(\"$(down_index(i))^ $(down_index(i+1))\", t) \n",
    "end\n",
    "\n",
    "#ケミカルポテンシャルの項\n",
    "for i in 1:nsite\n",
    "    up = up_index(i)\n",
    "    down = down_index(i)\n",
    "    ham += FermionOperator(\"$(up)^  $(up) \", -μ) \n",
    "    ham += FermionOperator(\"$(down)^ $(down)\", -μ)\n",
    "end\n",
    "\n",
    "println(ham)　#ハバードモデルハミルトニアンの表示。\n",
    "\n",
    "n_electron = 2　#電子数。ここではハーフフィリングを仮定しているので、電子数はサイトの数と等しくなければならない。\n",
    "@assert mod(n_electron, 2) == 0\n",
    "sparse_mat = get_number_preserving_sparse_operator(ham, n_qubit, n_electron)　#行列の取得\n",
    "\n",
    "using LinearAlgebra\n",
    "enes_ed = eigvals(sparse_mat.toarray())　#対角化を行う\n",
    "enes_ed"
   ]
  },
  {
   "cell_type": "code",
   "execution_count": null,
   "metadata": {},
   "outputs": [],
   "source": [
    "#最小固有値\n",
    "EigVal_min = minimum(enes_ed)\n",
    "EigVal_min"
   ]
  },
  {
   "cell_type": "markdown",
   "metadata": {},
   "source": [
    "## Jordan-Wigner展開\n",
    "2サイトのハバードモデルのハミルトニアンを用意し、スピン系にマッピングする。\n",
    "ここではJordan-Wigner展開を用いることとする。"
   ]
  },
  {
   "cell_type": "code",
   "execution_count": null,
   "metadata": {},
   "outputs": [],
   "source": [
    "#JW変換後、量子回路で計測可能なObservableに変換\n",
    "ham_obs = create_observable(jordan_wigner(ham), n_qubit)"
   ]
  },
  {
   "cell_type": "markdown",
   "metadata": {},
   "source": [
    "## Unitary Coupled Cluster (UCC)の概略\n",
    "\n",
    "Hartree-Fock波動関数を $|\\Phi \\rangle$ とすると、Unitary Coupled Cluster（UCC)は以下の形で定義される。\n",
    "$$|\\Psi \\rangle =e^{\\hat{T}-\\hat{T}^{\\dagger}}|\\Phi \\rangle$$\n",
    "これに対して通常のCoupled Cluster（CC）は以下の形を取る。\n",
    "$$|\\Psi \\rangle =e^{\\hat{T}}|\\Phi \\rangle$$\n",
    "最も広く使われるCC or UCCは $\\hat{T}$ を1電子励起 $\\hat{T}_1$ と2電子励起 $\\hat{T}_2$ に限定したCCSD or UCCSDとなっている。\n",
    "CCSDないしUCCSDの $\\hat{T}$ は具体的には次のように定義される。\n",
    "$$\n",
    "\\hat{T} = \\sum_{ai}t^{a}_{i} a^{\\dagger}_a a_i + \n",
    "1/4\\sum_{ab,ij}t^{ab}_{ij} a^{\\dagger}_a a^{\\dagger}_b a_j a_i\n",
    "$$ \n",
    "ここで添字 $a,b$ は仮想軌道を示し、 $i,j$ は占有軌道を示す。\n",
    "\n",
    "\n",
    "CCはHamiltonian $\\hat{H}$ のsimilarity transformation $e^{-\\hat{T}}\\hat{H}e^{T}$ のBCH展開が打ち切れるため古典コンピュータで実装可能である。\n",
    "一方で、UCCは脱励起演算子 $\\hat{T}^{\\dagger}$ のためにBCH展開が打ちきれず無限に続くために古典コンピュータでは計算不可能であるが、\n",
    "$e^{\\hat{T}-\\hat{T}^{\\dagger}}$ はユニタリー変換であるため量子回路で記述できる。\n",
    "ただし、 $e^{\\hat{T}-\\hat{T}^{\\dagger}}$ を量子回路で記述するためにはこのユニタリー演算子をTrotter分解しなくてはならない。\n",
    "しかし、 $T$ の各タームは可換ではないため量子コンピュータでのUCCの実装はトロッター誤差が生じる。\n",
    "ただし、このトロッター誤差はvariationalなアルゴリズムを用いる場合は変数決定の過程で概ね吸収できることがわかっている。\n",
    "そこで実用上まずはトロッターステップを１とした次式が使われる。\n",
    "$$\n",
    "e^{\\hat{T}-\\hat{T}^{\\dagger}} \\approx\n",
    "\\prod^{n_{occ}}_{i>j} \\prod^{n_{vir}}_{a>b}\n",
    "\\{\n",
    "e^{T^{ab}_{ij} a^\\dagger_a a^\\dagger_b a_j a_i - \n",
    "T^{ab*}_{ij} a^\\dagger_i a^\\dagger_j a_b a_a}\n",
    "\\}\n",
    "\\prod^{n_{occ}}_{i} \\prod^{n_{vir}}_{a} \n",
    "\\{\n",
    "e^{T^{a}_{i} a^\\dagger_a a_i -T^{a*}_{i} a^\\dagger_i a_a }\n",
    "\\}\n",
    "$$\n",
    "ここで ${n_{occ}}$ は占有軌道の数を、 $n_{vir}$ は仮想軌道の数を示す。\n",
    "\n"
   ]
  },
  {
   "cell_type": "markdown",
   "metadata": {},
   "source": [
    "## 軌道の最適化\n",
    "軌道の回転を行う。軌道の回転とは、以下の$\\kappa$に関する波動関数の最適化に対応する。（論文（Orbital optimized unitary coupled cluster theory for quantum computer）(4)式より）\n",
    "$$\n",
    "E(A, \\kappa)=\\left\\langle\\Psi\\left|e^{-\\hat{\\kappa}} \\hat{H} e^{\\hat{\\kappa}}\\right| \\Psi\\right\\rangle=\\left\\langle 0\\left|e^{-\\hat{A}} e^{-\\hat{\\kappa}} \\hat{H} e^{\\hat{k}} e^{\\hat{A}}\\right| 0\\right\\rangle\n",
    "$$\n",
    "\n",
    "$$\n",
    "\\hat{\\kappa}=\\sum_{pq}\\kappa_{pq}(\\hat{E_{pq}}-\\hat{E_{qp}})\n",
    "$$\n",
    "ここで $\\hat{E}_{p q}=\\hat{c}_{p, \\alpha}^{\\dagger} \\hat{c}_{q, \\alpha}+\\hat{c}_{p, \\beta}^{\\dagger} \\hat{c}_{q, \\beta}$\n",
    "\n",
    "2サイトのハバードモデルの場合、$\\hat{\\kappa}=\\kappa_02()\n",
    "\n"
   ]
  },
  {
   "cell_type": "markdown",
   "metadata": {},
   "source": [
    "UCCSDのサーキットを用意し、VQE計算に必要なエネルギーを計算するための関数（cost関数）を用意する。cost関数をscipyのoptimizerにセットすることで、VQEのパラメータ決定が可能になる（この次のセルで実行）。"
   ]
  },
  {
   "cell_type": "code",
   "execution_count": null,
   "metadata": {},
   "outputs": [],
   "source": [
    "circuit = uccgsd(n_qubit, true)\n",
    "println(\"Number of Qubits:\", n_qubit)\n",
    "println(\"Number of Electrons:\", n_electron)\n",
    "function cost(theta_list)\n",
    "    state = create_hf_state(n_qubit, n_electron)\n",
    "    update_circuit_param!(circuit, theta_list) \n",
    "    update_quantum_state!(circuit, state) \n",
    "    get_expectation_value(ham_obs, state) \n",
    "end"
   ]
  },
  {
   "cell_type": "code",
   "execution_count": null,
   "metadata": {},
   "outputs": [],
   "source": [
    "theta_init = rand(num_theta(circuit))\n",
    "cost_history = Float64[] #コスト関数の箱\n",
    "init_theta_list = theta_init\n",
    "push!(cost_history, cost(init_theta_list))\n",
    "println(\"cost_history\", cost_history)\n",
    "\n",
    "method = \"BFGS\"\n",
    "options = Dict(\"disp\" => true, \"maxiter\" => 50, \"gtol\" => 1e-5)\n",
    "callback(x) = push!(cost_history, cost(x))\n",
    "opt = scipy_opt.minimize(cost, init_theta_list, method=method, callback=callback)\n",
    "println(\"cost_history=\",cost_history)"
   ]
  },
  {
   "cell_type": "markdown",
   "metadata": {},
   "source": [
    "VQE計算を実行。"
   ]
  },
  {
   "cell_type": "markdown",
   "metadata": {},
   "source": [
    "VQEの収束状況をプロットする。"
   ]
  },
  {
   "cell_type": "code",
   "execution_count": null,
   "metadata": {},
   "outputs": [],
   "source": [
    "import PyPlot\n",
    "PyPlot.plot(cost_history, color=\"red\", label=\"VQE\")\n",
    "PyPlot.plot(1:length(cost_history), fill(EigVal_min, length(cost_history)),\n",
    "    linestyle=\"dashed\", color=\"black\", label=\"Exact Solution\")\n",
    "PyPlot.xlabel(\"Iteration\")\n",
    "PyPlot.ylabel(\"Energy expectation value\")\n",
    "PyPlot.legend()\n",
    "PyPlot.show()"
   ]
  },
  {
   "cell_type": "code",
   "execution_count": null,
   "metadata": {},
   "outputs": [],
   "source": [
    "divide_real_imag_openfermion(op) = \n",
    "    (op+hermitian_conjugated(op))/2, (op-hermitian_conjugated(op))/2im\n",
    "\n",
    "function make_rdm1(state::QuantumState, n_qubit)\n",
    "    one_rdm = zeros(Complex{Float64}, n_qubit, n_qubit)\n",
    "    for p in 1:n_qubit, q in 1:n_qubit\n",
    "        # Use a vector create a Fermion operator (not Tuple)\n",
    "        jw_hamiltonian = jordan_wigner(FermionOperator([(p-1, 1), (q-1, 0)]))\n",
    "        her, antiher = divide_real_imag_openfermion(jw_hamiltonian)\n",
    "        qulacs_hamiltonian_real = create_observable(her, n_qubit)\n",
    "        qulacs_hamiltonian_imag = create_observable(antiher, n_qubit)\n",
    "        pq_one_rdm_real = get_expectation_value(qulacs_hamiltonian_real, state)\n",
    "        pq_one_rdm_imag = get_expectation_value(qulacs_hamiltonian_imag, state)\n",
    "        one_rdm[p, q] = pq_one_rdm_real + pq_one_rdm_imag * im\n",
    "    end\n",
    "    one_rdm\n",
    "end"
   ]
  },
  {
   "cell_type": "markdown",
   "metadata": {},
   "source": [
    "## 縮約密度行列の計算法\n",
    "以下のコードブロックでは、VQE波動関数から１次の縮約密度行列\n",
    "$$\n",
    "\\gamma_{pq} =\n",
    "\\langle \\Psi |\n",
    "a^{\\dagger}_p a_q\n",
    "|\\Psi \\rangle \n",
    "$$\n",
    "を計算する方法を示す。"
   ]
  },
  {
   "cell_type": "code",
   "execution_count": null,
   "metadata": {},
   "outputs": [],
   "source": [
    "import LinearAlgebra\n",
    "\n",
    "state = create_hf_state(n_qubit, n_electron)\n",
    "rdm_hf = make_rdm1(state, n_qubit)\n",
    "println(\"RDM of HF\")\n",
    "println(rdm_hf)\n",
    "println(\"Number of electrons (HF)\")\n",
    "println(real(LinearAlgebra.tr(rdm_hf)))\n",
    "\n",
    "update_quantum_state!(circuit, state) #量子回路を状態に作用\n",
    "rdm_uccsd = make_rdm1(state, n_qubit)\n",
    "println(\"RDM of UCCSD\")\n",
    "println(rdm_uccsd)\n",
    "println(\"Number of electrons (UCCSD)\")\n",
    "println(real(LinearAlgebra.tr(rdm_hf)))    "
   ]
  }
 ],
 "metadata": {
  "kernelspec": {
   "display_name": "Julia 1.6.0",
   "language": "julia",
   "name": "julia-1.6"
  },
  "language_info": {
   "file_extension": ".jl",
   "mimetype": "application/julia",
   "name": "julia",
   "version": "1.6.0"
  }
 },
 "nbformat": 4,
 "nbformat_minor": 4
}
