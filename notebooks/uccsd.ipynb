{
 "cells": [
  {
   "cell_type": "markdown",
   "metadata": {},
   "source": [
    "## 必要なプログラムパッケージのインストール\n",
    "\n",
    "まず、Pythonにpyscf, qulacs, openfermion, openfermion-pyscfをインストールする。(qulacsのインストールにはgcc7以上が必要。)\n",
    "```\n",
    "pip install pyscf openfermion\n",
    "pip install openfermionpyscf\n",
    "pip install qulacs\n",
    "```\n",
    "\n",
    "その後JuliaやPyCall.jlの導入。。。。\n",
    "この他にもscipyやmatplotlibをこのノートでは使用している。"
   ]
  },
  {
   "cell_type": "code",
   "execution_count": null,
   "metadata": {},
   "outputs": [],
   "source": [
    "import Revise"
   ]
  },
  {
   "cell_type": "code",
   "execution_count": null,
   "metadata": {},
   "outputs": [],
   "source": [
    "import QCMaterial: uccsd1, convert_openfermion_op"
   ]
  },
  {
   "cell_type": "code",
   "execution_count": null,
   "metadata": {},
   "outputs": [],
   "source": [
    "using PyCall"
   ]
  },
  {
   "cell_type": "code",
   "execution_count": null,
   "metadata": {},
   "outputs": [],
   "source": [
    "plt = pyimport(\"matplotlib.pyplot\")\n",
    "of = pyimport(\"openfermion\")\n",
    "ofpyscf = pyimport(\"openfermionpyscf\")\n",
    "qulacs = pyimport(\"qulacs\")\n",
    "scipy_opt = pyimport(\"scipy.optimize\")\n",
    "\n",
    "get_fermion_operator = of.transforms.get_fermion_operator\n",
    "jordan_wigner = of.transforms.jordan_wigner"
   ]
  },
  {
   "cell_type": "markdown",
   "metadata": {},
   "source": [
    "## Openfermion-PySCFの基本的な使い方\n",
    "OpenFermionとPySCF（とそのインターフェイスであるOpenfermion-PySCF）を用いて、水素分子のハミルトニアンを用意し、スピン系にマッピングする。\n",
    "ここではJordan-Wigner展開を用いることとする。"
   ]
  },
  {
   "cell_type": "code",
   "execution_count": null,
   "metadata": {},
   "outputs": [],
   "source": [
    "# 分子と古典計算のセットアップ\n",
    "basis = \"STO-3G\" #原子軌道基底関数系の指定。STO-3Gは化学的に許される「最小」基底の一つ。\n",
    "multiplicity = 1 #分子の多重度（２S+1）。多くの安定な有機分子はシングレット（S=0）。\n",
    "charge = 0 #分子の賞味の電荷（原子核の電荷の和と全電子数の差分）。通常ゼロ。\n",
    "distance  = 1.4 #ここではH2のHとHの距離を指定するのに用いている。確か単位はオングストローム（要確認）\n",
    "geometry = [[\"H\", [0,0,0]],[\"H\", [0,0,distance]]] #分子の指定。各原子の元素とその原子のデカルト座標での位置。\n",
    "molecule = of.MolecularData(geometry, basis, multiplicity, charge, data_directory=@__DIR__) #MolecularDataはopenfermionのクラス。data_directoryはdataを保存する場所を示す。\n",
    "molecule = ofpyscf.run_pyscf(molecule,run_scf=1,run_fci=1) #PySCF計算の実行。run_scf=1はHartree-Fockの実行を意味し、run_fci=1は厳密対角化の実施を意味する。第二量子化表現を得るにはrun_scfは必須\n",
    "n_qubit = molecule.n_qubits #Qubit数の取得。\n",
    "n_electron = molecule.n_electrons #電子数の情報の取得\n",
    "#第二量子化表現のフェルミオンのハミルトニアンを得る\n",
    "fermionic_hamiltonian = get_fermion_operator(molecule.get_molecular_hamiltonian())\n",
    "#JW変換\n",
    "jw_hamiltonian = jordan_wigner(fermionic_hamiltonian)"
   ]
  },
  {
   "cell_type": "markdown",
   "metadata": {},
   "source": [
    "## Qulacsを用いた分子計算の準備\n",
    "まず、OpenFermionを用いて得たハミルトニアン(jw_hamiltonian)をQulacsで使えるようにする。"
   ]
  },
  {
   "cell_type": "code",
   "execution_count": null,
   "metadata": {},
   "outputs": [],
   "source": [
    "#Qulacs用のハミルトニアンの作成\n",
    "qulacs_hamiltonian = qulacs.observable.create_observable_from_openfermion_text(jw_hamiltonian.__str__())"
   ]
  },
  {
   "cell_type": "code",
   "execution_count": null,
   "metadata": {},
   "outputs": [],
   "source": [
    "hfstate(n_qubit, n_electron) = parse(Int, repeat(\"0\", n_qubit-n_electron) * repeat(\"1\", n_electron), base=2)"
   ]
  },
  {
   "cell_type": "markdown",
   "metadata": {},
   "source": [
    "Hartree-Fockエネルギーの計算を実行し、古典計算（PySCF）で得られたHartree-Fockエネルギーと同じ値が得られることを確認する。"
   ]
  },
  {
   "cell_type": "code",
   "execution_count": null,
   "metadata": {},
   "outputs": [],
   "source": [
    "state = qulacs.QuantumState(n_qubit) #|00000> を準備\n",
    "state.set_computational_basis(hfstate(n_qubit, n_electron))# Hartree-Fock State |0011>\n",
    "qulacs_hf_energy = qulacs_hamiltonian.get_expectation_value(state) #ある量子状態のハミルトニアンの期待値\n",
    "println(\"Qulacs HF energy: $(qulacs_hf_energy) (Hartree)\")\n",
    "println(\" PySCF HF energy: $(molecule.hf_energy) (Hartree)\")"
   ]
  },
  {
   "cell_type": "markdown",
   "metadata": {},
   "source": [
    "## Unitary Coupled Cluster (UCC)の概略\n",
    "\n",
    "Hartree-Fock波動関数を $|\\Phi \\rangle$ とすると、Unitary Coupled Cluster（UCC)は以下の形で定義される。\n",
    "$$|\\Psi \\rangle =e^{\\hat{T}-\\hat{T}^{\\dagger}}|\\Phi \\rangle$$\n",
    "これに対して通常のCoupled Cluster（CC）は以下の形を取る。\n",
    "$$|\\Psi \\rangle =e^{\\hat{T}}|\\Phi \\rangle$$\n",
    "最も広く使われるCC or UCCは $\\hat{T}$ を1電子励起 $\\hat{T}_1$ と2電子励起 $\\hat{T}_2$ に限定したCCSD or UCCSDとなっている。\n",
    "CCSDないしUCCSDの $\\hat{T}$ は具体的には次のように定義される。\n",
    "$$\n",
    "\\hat{T} = \\sum_{ai}t^{a}_{i} a^{\\dagger}_a a_i + \n",
    "1/4\\sum_{ab,ij}t^{ab}_{ij} a^{\\dagger}_a a^{\\dagger}_b a_j a_i\n",
    "$$ \n",
    "ここで添字 $a,b$ は仮想軌道を示し、 $i,j$ は占有軌道を示す。\n",
    "\n",
    "\n",
    "CCはHamiltonian $\\hat{H}$ のsimilarity transformation $e^{-\\hat{T}}\\hat{H}e^{T}$ のBCH展開が打ち切れるため古典コンピュータで実装可能である。\n",
    "一方で、UCCは脱励起演算子 $\\hat{T}^{\\dagger}$ のためにBCH展開が打ちきれず無限に続くために古典コンピュータでは計算不可能であるが、\n",
    "$e^{\\hat{T}-\\hat{T}^{\\dagger}}$ はユニタリー変換であるため量子回路で記述できる。\n",
    "ただし、 $e^{\\hat{T}-\\hat{T}^{\\dagger}}$ を量子回路で記述するためにはこのユニタリー演算子をTrotter分解しなくてはならない。\n",
    "しかし、 $T$ の各タームは可換ではないため量子コンピュータでのUCCの実装はトロッター誤差が生じる。\n",
    "ただし、このトロッター誤差はvariationalなアルゴリズムを用いる場合は変数決定の過程で概ね吸収できることがわかっている。\n",
    "そこで実用上まずはトロッターステップを１とした次式が使われる。\n",
    "$$\n",
    "e^{\\hat{T}-\\hat{T}^{\\dagger}} \\approx\n",
    "\\prod^{n_{occ}}_{i>j} \\prod^{n_{vir}}_{a>b}\n",
    "\\{\n",
    "e^{T^{ab}_{ij} a^\\dagger_a a^\\dagger_b a_j a_i - \n",
    "T^{ab*}_{ij} a^\\dagger_i a^\\dagger_j a_b a_a}\n",
    "\\}\n",
    "\\prod^{n_{occ}}_{i} \\prod^{n_{vir}}_{a} \n",
    "\\{\n",
    "e^{T^{a}_{i} a^\\dagger_a a_i -T^{a*}_{i} a^\\dagger_i a_a }\n",
    "\\}\n",
    "$$\n",
    "ここで ${n_{occ}}$ は占有軌道の数を、 $n_{vir}$ は仮想軌道の数を示す。\n",
    "\n"
   ]
  },
  {
   "cell_type": "code",
   "execution_count": null,
   "metadata": {},
   "outputs": [],
   "source": [
    "function update_circuit_param!(circuit::PyObject, theta_list, theta_offsets)\n",
    "    for (idx, theta) in enumerate(theta_list)\n",
    "        for ioff in 1:theta_offsets[idx][1]\n",
    "            pauli_coef = theta_offsets[idx][3][ioff]\n",
    "            #println(\"debug \", theta_offsets[idx, 2]+ioff, \" \", theta, \" \", pauli_coef)\n",
    "            circuit.set_parameter(theta_offsets[idx][2]+ioff-1, \n",
    "                                  theta*pauli_coef) #量子回路にパラメータをセット\n",
    "        end\n",
    "    end\n",
    "end"
   ]
  },
  {
   "cell_type": "markdown",
   "metadata": {},
   "source": [
    "UCCSDのサーキットを用意し、VQE計算に必要なエネルギーを計算するための関数（cost関数）を用意する。cost関数をscipyのoptimizerにセットすることで、VQEのパラメータ決定が可能になる（この次のセルで実行）。"
   ]
  },
  {
   "cell_type": "code",
   "execution_count": null,
   "metadata": {},
   "outputs": [],
   "source": [
    "circuit, theta_offsets = uccsd1(n_qubit, n_electron÷2, (n_qubit-n_electron)÷2)\n",
    "println(\"Number of Qubits:\", n_qubit)\n",
    "println(\"Number of Electrons:\", n_electron)\n",
    "function cost(theta_list)\n",
    "    state = qulacs.QuantumState(n_qubit) #|00000> を準備\n",
    "    state.set_computational_basis(hfstate(n_qubit, n_electron))# Hartree-Fock State\n",
    "    update_circuit_param!(circuit, theta_list, theta_offsets) #量子回路にパラメータをセット\n",
    "    circuit.update_quantum_state(state) #量子回路を状態に作用\n",
    "    qulacs_hamiltonian.get_expectation_value(state) #ハミルトニアンの期待値\n",
    "end\n",
    "theta_offsets"
   ]
  },
  {
   "cell_type": "code",
   "execution_count": null,
   "metadata": {},
   "outputs": [],
   "source": [
    "theta_init = zeros(size(theta_offsets)[1])\n",
    "cost_history = Float64[]\n",
    "init_theta_list = theta_init\n",
    "push!(cost_history, cost(init_theta_list))\n",
    "println(\"cost_history\", cost_history)\n",
    "method = \"BFGS\"\n",
    "options = Dict(\"disp\" => true, \"maxiter\" => 50, \"gtol\" => 1e-5)\n",
    "callback(x) = push!(cost_history, cost(x))\n",
    "opt = scipy_opt.minimize(cost, init_theta_list, method=method, callback=callback)\n",
    "println(cost_history)\n",
    "println(\"HF energy: $(molecule.hf_energy) (Hartree)\")\n",
    "println(\"FCI energy: $(molecule.fci_energy) (Hartree)\")"
   ]
  },
  {
   "cell_type": "markdown",
   "metadata": {},
   "source": [
    "VQE計算を実行。Full CI やHartree-Fockと比較。"
   ]
  },
  {
   "cell_type": "markdown",
   "metadata": {},
   "source": [
    "VQEの収束状況をプロットする。"
   ]
  },
  {
   "cell_type": "code",
   "execution_count": null,
   "metadata": {},
   "outputs": [],
   "source": [
    "import PyPlot\n",
    "PyPlot.plot(cost_history, color=\"red\", label=\"VQE\")\n",
    "PyPlot.plot(1:length(cost_history), fill(molecule.fci_energy, length(cost_history)),\n",
    "    linestyle=\"dashed\", color=\"black\", label=\"Exact Solution\")\n",
    "PyPlot.xlabel(\"Iteration\")\n",
    "PyPlot.ylabel(\"Energy expectation value\")\n",
    "PyPlot.legend()\n",
    "PyPlot.show()"
   ]
  },
  {
   "cell_type": "code",
   "execution_count": null,
   "metadata": {},
   "outputs": [],
   "source": [
    "divide_real_imag_openfermion(op) = \n",
    "    (op+of.utils.hermitian_conjugated(op))/2, (op-of.utils.hermitian_conjugated(op))/2im\n",
    "\n",
    "function make_rdm1(state, n_qubit)\n",
    "    one_rdm = zeros(Complex{Float64}, n_qubit, n_qubit)\n",
    "    for p in 1:n_qubit, q in 1:n_qubit\n",
    "        jw_hamiltonian = jordan_wigner(of.ops.FermionOperator(((p-1, 1), (q-1, 0))))\n",
    "        her, antiher = divide_real_imag_openfermion(jw_hamiltonian)\n",
    "        qulacs_hamiltonian_real = convert_openfermion_op(n_qubit, her)\n",
    "        qulacs_hamiltonian_imag = convert_openfermion_op(n_qubit, antiher)\n",
    "        pq_one_rdm_real = qulacs_hamiltonian_real.get_expectation_value(state)\n",
    "        pq_one_rdm_imag = qulacs_hamiltonian_imag.get_expectation_value(state)\n",
    "        one_rdm[p, q] = pq_one_rdm_real + pq_one_rdm_imag * im\n",
    "    end\n",
    "    one_rdm\n",
    "end"
   ]
  },
  {
   "cell_type": "markdown",
   "metadata": {},
   "source": [
    "## 縮約密度行列の計算法\n",
    "以下のコードブロックでは、VQE波動関数から１次の縮約密度行列\n",
    "$$\n",
    "\\gamma_{pq} =\n",
    "\\langle \\Psi |\n",
    "a^{\\dagger}_p a_q\n",
    "|\\Psi \\rangle \n",
    "$$\n",
    "を計算する方法を示す。"
   ]
  },
  {
   "cell_type": "code",
   "execution_count": null,
   "metadata": {},
   "outputs": [],
   "source": [
    "import LinearAlgebra\n",
    "\n",
    "state = qulacs.QuantumState(n_qubit) \n",
    "state.set_computational_basis(hfstate(n_qubit, n_electron))# Hartree-Fock State\n",
    "rdm_hf = make_rdm1(state, n_qubit)\n",
    "println(\"RDM of HF\")\n",
    "println(rdm_hf)\n",
    "println(\"Number of electrons (HF)\")\n",
    "println(real(LinearAlgebra.tr(rdm_hf)))\n",
    "\n",
    "circuit.update_quantum_state(state) #量子回路を状態に作用\n",
    "rdm_uccsd = make_rdm1(state, n_qubit)\n",
    "println(\"RDM of UCCSD\")\n",
    "println(rdm_uccsd)\n",
    "println(\"Number of electrons (UCCSD)\")\n",
    "println(real(LinearAlgebra.tr(rdm_hf)))    "
   ]
  }
 ],
 "metadata": {
  "kernelspec": {
   "display_name": "Julia 1.4.1",
   "language": "julia",
   "name": "julia-1.4"
  },
  "language_info": {
   "file_extension": ".jl",
   "mimetype": "application/julia",
   "name": "julia",
   "version": "1.4.1"
  }
 },
 "nbformat": 4,
 "nbformat_minor": 4
}
