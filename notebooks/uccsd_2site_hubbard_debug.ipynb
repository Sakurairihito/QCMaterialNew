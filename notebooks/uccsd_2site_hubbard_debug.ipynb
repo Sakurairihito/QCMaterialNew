{
 "cells": [
  {
   "cell_type": "markdown",
   "metadata": {},
   "source": [
    "## 必要なプログラムパッケージのインストール\n",
    "\n",
    "まず、Pythonにpyscf, qulacs, openfermion, openfermion-pyscfをインストールする。(qulacsのインストールにはgcc7以上が必要。)\n",
    "```\n",
    "pip install pyscf openfermion\n",
    "pip install openfermionpyscf\n",
    "pip install qulacs\n",
    "```\n",
    "\n",
    "その後JuliaやPyCall.jlの導入。。。。\n",
    "この他にもscipyやmatplotlibをこのノートでは使用している。"
   ]
  },
  {
   "cell_type": "code",
   "execution_count": 1,
   "metadata": {},
   "outputs": [
    {
     "name": "stderr",
     "output_type": "stream",
     "text": [
      "┌ Info: Precompiling Revise [295af30f-e4ad-537b-8983-00126c2a3abe]\n",
      "└ @ Base loading.jl:1260\n"
     ]
    }
   ],
   "source": [
    "import Revise"
   ]
  },
  {
   "cell_type": "code",
   "execution_count": 18,
   "metadata": {},
   "outputs": [],
   "source": [
    "import QCMaterial: uccgsd, convert_openfermion_op, up_index, down_index"
   ]
  },
  {
   "cell_type": "code",
   "execution_count": 3,
   "metadata": {},
   "outputs": [],
   "source": [
    "using PyCall"
   ]
  },
  {
   "cell_type": "code",
   "execution_count": 4,
   "metadata": {},
   "outputs": [
    {
     "data": {
      "text/plain": [
       "PyObject <class 'openfermion.ops.operators.fermion_operator.FermionOperator'>"
      ]
     },
     "execution_count": 4,
     "metadata": {},
     "output_type": "execute_result"
    }
   ],
   "source": [
    "plt = pyimport(\"matplotlib.pyplot\")\n",
    "of = pyimport(\"openfermion\")\n",
    "ofpyscf = pyimport(\"openfermionpyscf\")\n",
    "qulacs = pyimport(\"qulacs\")\n",
    "scipy_opt = pyimport(\"scipy.optimize\")\n",
    "get_fermion_operator = of.transforms.get_fermion_operator\n",
    "jordan_wigner = of.transforms.jordan_wigner\n",
    "jw_get_ground_state_at_particle_number = of.linalg.sparse_tools.jw_get_ground_state_at_particle_number\n",
    "get_number_preserving_sparse_operator = of.linalg.get_number_preserving_sparse_operator\n",
    "FermionOperator = of.ops.operators.FermionOperator"
   ]
  },
  {
   "cell_type": "markdown",
   "metadata": {},
   "source": [
    "## 2-site Hubbard modelのハミルトニアンを定義する。\n",
    "\n",
    "$H=-t \\sum_{\\langle i, j>\\sigma=(\\uparrow, \\downarrow)} \\sum_{i, \\sigma}\\left(a_{i, \\sigma}^{\\dagger} a_{j, \\sigma}+a_{j, \\sigma}^{\\dagger} a_{i, \\sigma}\\right)+U \\sum_{i} n_{i, \\uparrow} n_{i, \\downarrow}-\\mu \\sum_{i} \\sum_{\\sigma=(\\uparrow, \\downarrow)} n_{i, \\sigma}$\n",
    "\n",
    "$1_\\uparrow$->0,$1_\\downarrow$->1, $2_\\uparrow$->2, $2_\\downarrow$->3\n",
    "\n",
    "クーロン斥力(U=2): 2 * $n_{1,\\uparrow}$ $n_{1,\\downarrow}$ + 2 * $n_{2,\\uparrow}$ $n_{2,\\downarrow}$ \n",
    "               = 2 * $c^\\dagger_0$ $c_0$ $c^\\dagger_1$ $c_1$ + 2 * $c^\\dagger_2$ $c_2$ $c^\\dagger_3$ $c_3$\n",
    " \n",
    "ホッピング項(t=-0.1): -0.1 * $c^\\dagger_{1,\\uparrow}$ $c_{2,\\uparrow}$ -0.1 * $c^\\dagger_{2,\\uparrow}$ $c_{1,\\uparrow}$\n",
    "                   -0.1 * $c^\\dagger_{1,\\downarrow}$ $c_{2,\\downarrow}$ -0.1 * $c^\\dagger_{2,\\downarrow}$ $c_{1,\\downarrow}$\n",
    "  = -0.1 * $c^\\dagger_0$ $c_2$ + -0.1 * $c^\\dagger_2$ $c_0$ + -0.1 * $c^\\dagger_1$ $c_3$ + -0.1 * $c_3^\\dagger$ $c_1$\n",
    "\n",
    "ケミカルポテンシャル項(μ=U/2=1):-1 * $n_{1,\\uparrow}$ - 1 * $n_{1,\\downarrow}$ - 1 * $n_{2,\\uparrow}$ - 1 * $n_{2,\\downarrow}$ \n",
    "               = - 1 * $c^\\dagger_0$ $c_0$ - 1 * $c^\\dagger_1$ $c_1$ - 1 * $c^\\dagger_2$ $c_2$ - 1 * $c^\\dagger_3$ $c_3$"
   ]
  },
  {
   "cell_type": "code",
   "execution_count": 5,
   "metadata": {},
   "outputs": [
    {
     "name": "stdout",
     "output_type": "stream",
     "text": [
      "PyObject -2.0 [0^ 2] +\n",
      "-2.0 [1^ 3] +\n",
      "-2.0 [2^ 0] +\n",
      "-2.0 [3^ 1]\n"
     ]
    },
    {
     "data": {
      "text/plain": [
       "6-element Array{Float64,1}:\n",
       " -3.9999999999999996\n",
       "  0.0\n",
       "  0.0\n",
       "  0.0\n",
       "  4.579669976578771e-16\n",
       "  3.9999999999999987"
      ]
     },
     "execution_count": 5,
     "metadata": {},
     "output_type": "execute_result"
    }
   ],
   "source": [
    "#ハバードモデルハミルトニアンを定義し、対角化まで行う\n",
    "nsite = 2 #サイトの数\n",
    "n_qubit = 2*nsite #量子ビットの数\n",
    "U = 0.0\n",
    "t = -2.0\n",
    "\n",
    "#ハーフフィリングを仮定(電子数 = サイトの数)するとケミカルポテンシャルはμ=U/2.マイナスがつくので以下。\n",
    "μ = U/2\n",
    "\n",
    "ham = FermionOperator()\n",
    "#斥力項\n",
    "for i in 1:nsite\n",
    "    #up_index,down_indexの定義は、QC_materialを参照。\n",
    "    up = up_index(i)\n",
    "    down = down_index(i)\n",
    "    ham += FermionOperator(\"$(up)^ $(down)^ $(up) $(down)\", -U) #左側に生成演算子。右際に消滅演算子をもっていく過程で半交換関係が1回でマイナスをつける。\n",
    "end\n",
    "#ホッピング項\n",
    "for i in 1:nsite-1\n",
    "    ham += FermionOperator(\"$(up_index(i+1))^ $(up_index(i))\", t) \n",
    "    ham += FermionOperator(\"$(up_index(i))^ $(up_index(i+1))\", t) \n",
    "    ham += FermionOperator(\"$(down_index(i+1))^ $(down_index(i))\", t) \n",
    "    ham += FermionOperator(\"$(down_index(i))^ $(down_index(i+1))\", t) \n",
    "end\n",
    "\n",
    "#ケミカルポテンシャルの項\n",
    "for i in 1:nsite\n",
    "    up = up_index(i)\n",
    "    down = down_index(i)\n",
    "    ham += FermionOperator(\"$(up)^  $(up) \", -μ) \n",
    "    ham += FermionOperator(\"$(down)^ $(down)\", -μ)\n",
    "end\n",
    "\n",
    "println(ham)　#ハバードモデルハミルトニアンの表示。\n",
    "\n",
    "n_electron = 2　#電子数。ここではハーフフィリングを仮定しているので、電子数はサイトの数と等しくなければならない。\n",
    "@assert mod(n_electron, 2) == 0\n",
    "sparse_mat = get_number_preserving_sparse_operator(ham, n_qubit, n_electron)　#行列の取得\n",
    "\n",
    "using LinearAlgebra\n",
    "enes_ed = eigvals(sparse_mat.toarray())　#対角化を行う\n",
    "enes_ed"
   ]
  },
  {
   "cell_type": "code",
   "execution_count": 6,
   "metadata": {},
   "outputs": [
    {
     "data": {
      "text/plain": [
       "-3.9999999999999996"
      ]
     },
     "execution_count": 6,
     "metadata": {},
     "output_type": "execute_result"
    }
   ],
   "source": [
    "#最小固有値\n",
    "EigVal_min = minimum(enes_ed)\n",
    "EigVal_min"
   ]
  },
  {
   "cell_type": "markdown",
   "metadata": {},
   "source": [
    "## Jordan-Wigner展開\n",
    "2サイトのハバードモデルのハミルトニアンを用意し、スピン系にマッピングする。\n",
    "ここではJordan-Wigner展開を用いることとする。"
   ]
  },
  {
   "cell_type": "code",
   "execution_count": 7,
   "metadata": {},
   "outputs": [
    {
     "data": {
      "text/plain": [
       "PyObject (-1+0j) [X0 Z1 X2] +\n",
       "(-1+0j) [Y0 Z1 Y2] +\n",
       "(-1+0j) [X1 Z2 X3] +\n",
       "(-1+0j) [Y1 Z2 Y3]"
      ]
     },
     "execution_count": 7,
     "metadata": {},
     "output_type": "execute_result"
    }
   ],
   "source": [
    "#JW変換\n",
    "jw_hamiltonian = jordan_wigner(ham)"
   ]
  },
  {
   "cell_type": "markdown",
   "metadata": {},
   "source": [
    "## Qulacsを用いた分子計算の準備\n",
    "まず、OpenFermionを用いて得たハミルトニアン(jw_hamiltonian)をQulacsで使えるようにする。"
   ]
  },
  {
   "cell_type": "code",
   "execution_count": 8,
   "metadata": {},
   "outputs": [
    {
     "data": {
      "text/plain": [
       "PyObject <qulacs.Observable object at 0x1481f258ce70>"
      ]
     },
     "execution_count": 8,
     "metadata": {},
     "output_type": "execute_result"
    }
   ],
   "source": [
    "#Qulacs用のハミルトニアンの作成\n",
    "qulacs_hamiltonian = qulacs.observable.create_observable_from_openfermion_text(jw_hamiltonian.__str__())"
   ]
  },
  {
   "cell_type": "code",
   "execution_count": 9,
   "metadata": {},
   "outputs": [
    {
     "data": {
      "text/plain": [
       "hfstate (generic function with 1 method)"
      ]
     },
     "execution_count": 9,
     "metadata": {},
     "output_type": "execute_result"
    }
   ],
   "source": [
    "hfstate(n_qubit, n_electron) = parse(Int, repeat(\"0\", n_qubit-n_electron) * repeat(\"1\", n_electron), base=2)"
   ]
  },
  {
   "cell_type": "markdown",
   "metadata": {},
   "source": [
    "## Unitary Coupled Cluster (UCC)の概略\n",
    "\n",
    "Hartree-Fock波動関数を $|\\Phi \\rangle$ とすると、Unitary Coupled Cluster（UCC)は以下の形で定義される。\n",
    "$$|\\Psi \\rangle =e^{\\hat{T}-\\hat{T}^{\\dagger}}|\\Phi \\rangle$$\n",
    "これに対して通常のCoupled Cluster（CC）は以下の形を取る。\n",
    "$$|\\Psi \\rangle =e^{\\hat{T}}|\\Phi \\rangle$$\n",
    "最も広く使われるCC or UCCは $\\hat{T}$ を1電子励起 $\\hat{T}_1$ と2電子励起 $\\hat{T}_2$ に限定したCCSD or UCCSDとなっている。\n",
    "CCSDないしUCCSDの $\\hat{T}$ は具体的には次のように定義される。\n",
    "$$\n",
    "\\hat{T} = \\sum_{ai}t^{a}_{i} a^{\\dagger}_a a_i + \n",
    "1/4\\sum_{ab,ij}t^{ab}_{ij} a^{\\dagger}_a a^{\\dagger}_b a_j a_i\n",
    "$$ \n",
    "ここで添字 $a,b$ は仮想軌道を示し、 $i,j$ は占有軌道を示す。\n",
    "\n",
    "\n",
    "CCはHamiltonian $\\hat{H}$ のsimilarity transformation $e^{-\\hat{T}}\\hat{H}e^{T}$ のBCH展開が打ち切れるため古典コンピュータで実装可能である。\n",
    "一方で、UCCは脱励起演算子 $\\hat{T}^{\\dagger}$ のためにBCH展開が打ちきれず無限に続くために古典コンピュータでは計算不可能であるが、\n",
    "$e^{\\hat{T}-\\hat{T}^{\\dagger}}$ はユニタリー変換であるため量子回路で記述できる。\n",
    "ただし、 $e^{\\hat{T}-\\hat{T}^{\\dagger}}$ を量子回路で記述するためにはこのユニタリー演算子をTrotter分解しなくてはならない。\n",
    "しかし、 $T$ の各タームは可換ではないため量子コンピュータでのUCCの実装はトロッター誤差が生じる。\n",
    "ただし、このトロッター誤差はvariationalなアルゴリズムを用いる場合は変数決定の過程で概ね吸収できることがわかっている。\n",
    "そこで実用上まずはトロッターステップを１とした次式が使われる。\n",
    "$$\n",
    "e^{\\hat{T}-\\hat{T}^{\\dagger}} \\approx\n",
    "\\prod^{n_{occ}}_{i>j} \\prod^{n_{vir}}_{a>b}\n",
    "\\{\n",
    "e^{T^{ab}_{ij} a^\\dagger_a a^\\dagger_b a_j a_i - \n",
    "T^{ab*}_{ij} a^\\dagger_i a^\\dagger_j a_b a_a}\n",
    "\\}\n",
    "\\prod^{n_{occ}}_{i} \\prod^{n_{vir}}_{a} \n",
    "\\{\n",
    "e^{T^{a}_{i} a^\\dagger_a a_i -T^{a*}_{i} a^\\dagger_i a_a }\n",
    "\\}\n",
    "$$\n",
    "ここで ${n_{occ}}$ は占有軌道の数を、 $n_{vir}$ は仮想軌道の数を示す。\n",
    "\n"
   ]
  },
  {
   "cell_type": "markdown",
   "metadata": {},
   "source": [
    "## 軌道の最適化\n",
    "軌道の回転を行う。軌道の回転とは、以下の$\\kappa$に関する波動関数の最適化に対応する。（論文（Orbital optimized unitary coupled cluster theory for quantum computer）(4)式より）\n",
    "$$\n",
    "E(A, \\kappa)=\\left\\langle\\Psi\\left|e^{-\\hat{\\kappa}} \\hat{H} e^{\\hat{\\kappa}}\\right| \\Psi\\right\\rangle=\\left\\langle 0\\left|e^{-\\hat{A}} e^{-\\hat{\\kappa}} \\hat{H} e^{\\hat{k}} e^{\\hat{A}}\\right| 0\\right\\rangle\n",
    "$$\n",
    "\n",
    "$$\n",
    "\\hat{\\kappa}=\\sum_{pq}\\kappa_{pq}(\\hat{E_{pq}}-\\hat{E_{qp}})\n",
    "$$\n",
    "ここで $\\hat{E}_{p q}=\\hat{c}_{p, \\alpha}^{\\dagger} \\hat{c}_{q, \\alpha}+\\hat{c}_{p, \\beta}^{\\dagger} \\hat{c}_{q, \\beta}$\n",
    "\n",
    "2サイトのハバードモデルの場合、$\\hat{\\kappa}=\\kappa_02()\n",
    "\n"
   ]
  },
  {
   "cell_type": "code",
   "execution_count": 10,
   "metadata": {},
   "outputs": [
    {
     "data": {
      "text/plain": [
       "update_circuit_param! (generic function with 1 method)"
      ]
     },
     "execution_count": 10,
     "metadata": {},
     "output_type": "execute_result"
    }
   ],
   "source": [
    "function update_circuit_param!(circuit::PyObject, theta_list, theta_offsets)\n",
    "    for (idx, theta) in enumerate(theta_list)\n",
    "        for ioff in 1:theta_offsets[idx][1]\n",
    "            pauli_coef = theta_offsets[idx][3][ioff]\n",
    "            #println(\"debug \", theta_offsets[idx, 2]+ioff, \" \", theta, \" \", pauli_coef)\n",
    "            circuit.set_parameter(theta_offsets[idx][2]+ioff-1, \n",
    "                                  theta*pauli_coef) #量子回路にパラメータをセット\n",
    "        end\n",
    "    end\n",
    "end"
   ]
  },
  {
   "cell_type": "markdown",
   "metadata": {},
   "source": [
    "UCCSDのサーキットを用意し、VQE計算に必要なエネルギーを計算するための関数（cost関数）を用意する。cost関数をscipyのoptimizerにセットすることで、VQEのパラメータ決定が可能になる（この次のセルで実行）。"
   ]
  },
  {
   "cell_type": "code",
   "execution_count": 19,
   "metadata": {},
   "outputs": [
    {
     "name": "stdout",
     "output_type": "stream",
     "text": [
      "Number of Qubits:4\n",
      "Number of Electrons:2\n"
     ]
    },
    {
     "data": {
      "text/plain": [
       "104-element Array{Any,1}:\n",
       " Any[2, 0, [-0.5, 0.5]]\n",
       " Any[2, 2, [0.5, -0.5]]\n",
       " Any[2, 4, [-0.5, 0.5]]\n",
       " Any[2, 6, [0.5, -0.5]]\n",
       " Any[2, 8, [-0.5, 0.5]]\n",
       " Any[2, 10, [0.5, -0.5]]\n",
       " Any[2, 12, [-0.5, 0.5]]\n",
       " Any[2, 14, [0.5, -0.5]]\n",
       " Any[0, 16, Float64[]]\n",
       " Any[4, 16, [0.25, 0.25, -0.25, -0.25]]\n",
       " Any[4, 20, [-0.25, -0.25, 0.25, 0.25]]\n",
       " Any[0, 24, Float64[]]\n",
       " Any[4, 24, [-0.25, 0.25, -0.25, 0.25]]\n",
       " ⋮\n",
       " Any[4, 280, [0.25, 0.25, -0.25, -0.25]]\n",
       " Any[8, 284, [0.125, 0.125, -0.125, 0.125, -0.125, 0.125, -0.125, -0.125]]\n",
       " Any[8, 292, [0.125, 0.125, 0.125, -0.125, -0.125, -0.125, -0.125, 0.125]]\n",
       " Any[4, 300, [0.25, -0.25, 0.25, -0.25]]\n",
       " Any[4, 304, [-0.25, -0.25, 0.25, 0.25]]\n",
       " Any[8, 308, [-0.125, -0.125, -0.125, 0.125, 0.125, 0.125, 0.125, -0.125]]\n",
       " Any[8, 316, [-0.125, -0.125, 0.125, -0.125, 0.125, -0.125, 0.125, 0.125]]\n",
       " Any[4, 324, [-0.25, 0.25, -0.25, 0.25]]\n",
       " Any[0, 328, Float64[]]\n",
       " Any[4, 328, [-0.25, 0.25, -0.25, 0.25]]\n",
       " Any[4, 332, [0.25, -0.25, 0.25, -0.25]]\n",
       " Any[0, 336, Float64[]]"
      ]
     },
     "execution_count": 19,
     "metadata": {},
     "output_type": "execute_result"
    }
   ],
   "source": [
    "circuit, theta_offsets = uccgsd(n_qubit, n_electron÷2, (n_qubit-n_electron)÷2,true)\n",
    "println(\"Number of Qubits:\", n_qubit)\n",
    "println(\"Number of Electrons:\", n_electron)\n",
    "function cost(theta_list)\n",
    "    state = qulacs.QuantumState(n_qubit) #|0000> を準備\n",
    "    state.set_computational_basis(hfstate(n_qubit, n_electron))# |0011>　\n",
    "    update_circuit_param!(circuit, theta_list, theta_offsets) #量子回路にパラメータをセット\n",
    "    circuit.update_quantum_state(state) #量子回路を状態に作用\n",
    "    qulacs_hamiltonian.get_expectation_value(state) #ハミルトニアンの期待値\n",
    "end\n",
    "theta_offsets"
   ]
  },
  {
   "cell_type": "code",
   "execution_count": 21,
   "metadata": {},
   "outputs": [
    {
     "name": "stdout",
     "output_type": "stream",
     "text": [
      "cost_history[3.715149809433555]\n",
      "cost_history=[3.715149809433555, 0.1857287732784042, -1.1768657342089202, -2.732196238459286, -3.266990162863427, -3.481111561458181, -3.725849092702514, -3.9810047419526073, -3.9854623370774522, -3.992886112660026, -3.999504632969208, -3.9999482122415664, -3.9999999356158575, -3.999999996744955, -3.9999999999971063]\n"
     ]
    }
   ],
   "source": [
    "#theta_init = zeros(size(theta_offsets)[1])　#最初は全てゼロ。つまりIdentityを作用させる。\n",
    "theta_init = rand(size(theta_offsets)[1])\n",
    "cost_history = Float64[] #コスト関数の箱\n",
    "init_theta_list = theta_init\n",
    "push!(cost_history, cost(init_theta_list))\n",
    "println(\"cost_history\", cost_history)\n",
    "\n",
    "method = \"BFGS\"\n",
    "options = Dict(\"disp\" => true, \"maxiter\" => 50, \"gtol\" => 1e-5)\n",
    "callback(x) = push!(cost_history, cost(x))\n",
    "opt = scipy_opt.minimize(cost, init_theta_list, method=method, callback=callback)\n",
    "println(\"cost_history=\",cost_history)"
   ]
  },
  {
   "cell_type": "markdown",
   "metadata": {},
   "source": [
    "VQE計算を実行。"
   ]
  },
  {
   "cell_type": "markdown",
   "metadata": {},
   "source": [
    "VQEの収束状況をプロットする。"
   ]
  },
  {
   "cell_type": "code",
   "execution_count": 22,
   "metadata": {},
   "outputs": [
    {
     "data": {
      "image/png": "[encoded data removed]",
      "text/plain": [
       "PyPlot.Figure(PyObject <Figure size 640x480 with 1 Axes>)"
      ]
     },
     "metadata": {},
     "output_type": "display_data"
    }
   ],
   "source": [
    "import PyPlot\n",
    "PyPlot.plot(cost_history, color=\"red\", label=\"VQE\")\n",
    "PyPlot.plot(1:length(cost_history), fill(EigVal_min, length(cost_history)),\n",
    "    linestyle=\"dashed\", color=\"black\", label=\"Exact Solution\")\n",
    "PyPlot.xlabel(\"Iteration\")\n",
    "PyPlot.ylabel(\"Energy expectation value\")\n",
    "PyPlot.legend()\n",
    "PyPlot.show()"
   ]
  },
  {
   "cell_type": "code",
   "execution_count": 23,
   "metadata": {},
   "outputs": [
    {
     "data": {
      "text/plain": [
       "make_rdm1 (generic function with 1 method)"
      ]
     },
     "execution_count": 23,
     "metadata": {},
     "output_type": "execute_result"
    }
   ],
   "source": [
    "divide_real_imag_openfermion(op) = \n",
    "    (op+of.utils.hermitian_conjugated(op))/2, (op-of.utils.hermitian_conjugated(op))/2im\n",
    "\n",
    "function make_rdm1(state, n_qubit)\n",
    "    one_rdm = zeros(Complex{Float64}, n_qubit, n_qubit)\n",
    "    for p in 1:n_qubit, q in 1:n_qubit\n",
    "        jw_hamiltonian = jordan_wigner(of.ops.FermionOperator(((p-1, 1), (q-1, 0))))\n",
    "        her, antiher = divide_real_imag_openfermion(jw_hamiltonian)\n",
    "        qulacs_hamiltonian_real = convert_openfermion_op(n_qubit, her)\n",
    "        qulacs_hamiltonian_imag = convert_openfermion_op(n_qubit, antiher)\n",
    "        pq_one_rdm_real = qulacs_hamiltonian_real.get_expectation_value(state)\n",
    "        pq_one_rdm_imag = qulacs_hamiltonian_imag.get_expectation_value(state)\n",
    "        one_rdm[p, q] = pq_one_rdm_real + pq_one_rdm_imag * im\n",
    "    end\n",
    "    one_rdm\n",
    "end"
   ]
  },
  {
   "cell_type": "markdown",
   "metadata": {},
   "source": [
    "## 縮約密度行列の計算法\n",
    "以下のコードブロックでは、VQE波動関数から１次の縮約密度行列\n",
    "$$\n",
    "\\gamma_{pq} =\n",
    "\\langle \\Psi |\n",
    "a^{\\dagger}_p a_q\n",
    "|\\Psi \\rangle \n",
    "$$\n",
    "を計算する方法を示す。"
   ]
  },
  {
   "cell_type": "code",
   "execution_count": 15,
   "metadata": {},
   "outputs": [
    {
     "name": "stdout",
     "output_type": "stream",
     "text": [
      "RDM of HF\n",
      "Complex{Float64}[1.0 + 0.0im 0.0 + 0.0im 0.0 + 0.0im 0.0 + 0.0im; 0.0 + 0.0im 1.0 + 0.0im 0.0 + 0.0im 0.0 + 0.0im; 0.0 + 0.0im 0.0 + 0.0im 0.0 + 0.0im 0.0 + 0.0im; 0.0 + 0.0im 0.0 + 0.0im 0.0 + 0.0im 0.0 + 0.0im]\n",
      "Number of electrons (HF)\n",
      "2.0\n"
     ]
    },
    {
     "ename": "UndefVarError",
     "evalue": "\u001b[91mUndefVarError: circuit not defined\u001b[39m",
     "output_type": "error",
     "traceback": [
      "\u001b[91mUndefVarError: circuit not defined\u001b[39m",
      "",
      "Stacktrace:",
      " [1] top-level scope at In[15]:10"
     ]
    }
   ],
   "source": [
    "import LinearAlgebra\n",
    "\n",
    "state = qulacs.QuantumState(n_qubit) \n",
    "state.set_computational_basis(hfstate(n_qubit, n_electron))# Hartree-Fock State\n",
    "rdm_hf = make_rdm1(state, n_qubit)\n",
    "println(\"RDM of HF\")\n",
    "println(rdm_hf)\n",
    "println(\"Number of electrons (HF)\")\n",
    "println(real(LinearAlgebra.tr(rdm_hf)))\n",
    "\n",
    "circuit.update_quantum_state(state) #量子回路を状態に作用\n",
    "rdm_uccsd = make_rdm1(state, n_qubit)\n",
    "println(\"RDM of UCCSD\")\n",
    "println(rdm_uccsd)\n",
    "println(\"Number of electrons (UCCSD)\")\n",
    "println(real(LinearAlgebra.tr(rdm_hf)))    "
   ]
  },
  {
   "cell_type": "code",
   "execution_count": null,
   "metadata": {},
   "outputs": [],
   "source": []
  },
  {
   "cell_type": "code",
   "execution_count": null,
   "metadata": {},
   "outputs": [],
   "source": []
  },
  {
   "cell_type": "code",
   "execution_count": null,
   "metadata": {},
   "outputs": [],
   "source": []
  }
 ],
 "metadata": {
  "kernelspec": {
   "display_name": "Julia 1.4.1",
   "language": "julia",
   "name": "julia-1.4"
  },
  "language_info": {
   "file_extension": ".jl",
   "mimetype": "application/julia",
   "name": "julia",
   "version": "1.4.1"
  }
 },
 "nbformat": 4,
 "nbformat_minor": 4
}
