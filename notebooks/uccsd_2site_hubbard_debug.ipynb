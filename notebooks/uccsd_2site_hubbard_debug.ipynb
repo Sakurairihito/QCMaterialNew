{
 "cells": [
  {
   "cell_type": "markdown",
   "metadata": {},
   "source": [
    "## 必要なプログラムパッケージのインストール\n",
    "\n",
    "まず、Pythonにpyscf, qulacs, openfermion, openfermion-pyscfをインストールする。(qulacsのインストールにはgcc7以上が必要。)\n",
    "```\n",
    "pip install pyscf openfermion\n",
    "pip install openfermionpyscf\n",
    "pip install qulacs\n",
    "```\n",
    "\n",
    "その後JuliaやPyCall.jlの導入。。。。\n",
    "この他にもscipyやmatplotlibをこのノートでは使用している。"
   ]
  },
  {
   "cell_type": "code",
   "execution_count": 1,
   "metadata": {},
   "outputs": [
    {
     "name": "stderr",
     "output_type": "stream",
     "text": [
      "┌ Warning: no Manifest.toml file found, static paths used\n",
      "└ @ Revise /Users/sakurairihito/.julia/packages/Revise/mvD4N/src/packagedef.jl:1361\n"
     ]
    }
   ],
   "source": [
    "import Revise"
   ]
  },
  {
   "cell_type": "code",
   "execution_count": 2,
   "metadata": {},
   "outputs": [
    {
     "name": "stderr",
     "output_type": "stream",
     "text": [
      "┌ Info: Precompiling QCMaterial [a9cd9503-f9e9-42c1-955f-178e1ea1d76e]\n",
      "└ @ Base loading.jl:1278\n"
     ]
    }
   ],
   "source": [
    "import QCMaterial: uccsd1, convert_openfermion_op, up_index, down_index"
   ]
  },
  {
   "cell_type": "code",
   "execution_count": 3,
   "metadata": {},
   "outputs": [],
   "source": [
    "using PyCall"
   ]
  },
  {
   "cell_type": "code",
   "execution_count": 4,
   "metadata": {},
   "outputs": [
    {
     "data": {
      "text/plain": [
       "PyObject <class 'openfermion.ops.operators.fermion_operator.FermionOperator'>"
      ]
     },
     "execution_count": 4,
     "metadata": {},
     "output_type": "execute_result"
    }
   ],
   "source": [
    "plt = pyimport(\"matplotlib.pyplot\")\n",
    "of = pyimport(\"openfermion\")\n",
    "ofpyscf = pyimport(\"openfermionpyscf\")\n",
    "qulacs = pyimport(\"qulacs\")\n",
    "scipy_opt = pyimport(\"scipy.optimize\")\n",
    "get_fermion_operator = of.transforms.get_fermion_operator\n",
    "jordan_wigner = of.transforms.jordan_wigner\n",
    "jw_get_ground_state_at_particle_number = of.linalg.sparse_tools.jw_get_ground_state_at_particle_number\n",
    "get_number_preserving_sparse_operator = of.linalg.get_number_preserving_sparse_operator\n",
    "FermionOperator = of.ops.operators.FermionOperator"
   ]
  },
  {
   "cell_type": "markdown",
   "metadata": {},
   "source": [
    "## 2-site Hubbard modelのハミルトニアンを定義する。\n",
    "\n",
    "$H=-t \\sum_{\\langle i, j>\\sigma=(\\uparrow, \\downarrow)} \\sum_{i, \\sigma}\\left(a_{i, \\sigma}^{\\dagger} a_{j, \\sigma}+a_{j, \\sigma}^{\\dagger} a_{i, \\sigma}\\right)+U \\sum_{i} n_{i, \\uparrow} n_{i, \\downarrow}-\\mu \\sum_{i} \\sum_{\\sigma=(\\uparrow, \\downarrow)} n_{i, \\sigma}$\n",
    "\n",
    "$1_\\uparrow$->0,$1_\\downarrow$->1, $2_\\uparrow$->2, $2_\\downarrow$->3\n",
    "\n",
    "クーロン斥力(U=2): 2 * $n_{1,\\uparrow}$ $n_{1,\\downarrow}$ + 2 * $n_{2,\\uparrow}$ $n_{2,\\downarrow}$ \n",
    "               = 2 * $c^\\dagger_0$ $c_0$ $c^\\dagger_1$ $c_1$ + 2 * $c^\\dagger_2$ $c_2$ $c^\\dagger_3$ $c_3$\n",
    " \n",
    "ホッピング項(t=-0.1): -0.1 * $c^\\dagger_{1,\\uparrow}$ $c_{2,\\uparrow}$ -0.1 * $c^\\dagger_{2,\\uparrow}$ $c_{1,\\uparrow}$\n",
    "                   -0.1 * $c^\\dagger_{1,\\downarrow}$ $c_{2,\\downarrow}$ -0.1 * $c^\\dagger_{2,\\downarrow}$ $c_{1,\\downarrow}$\n",
    "  = -0.1 * $c^\\dagger_0$ $c_2$ + -0.1 * $c^\\dagger_2$ $c_0$ + -0.1 * $c^\\dagger_1$ $c_3$ + -0.1 * $c_3^\\dagger$ $c_1$\n",
    "\n",
    "ケミカルポテンシャル項(μ=U/2=1):-1 * $n_{1,\\uparrow}$ - 1 * $n_{1,\\downarrow}$ - 1 * $n_{2,\\uparrow}$ - 1 * $n_{2,\\downarrow}$ \n",
    "               = - 1 * $c^\\dagger_0$ $c_0$ - 1 * $c^\\dagger_1$ $c_1$ - 1 * $c^\\dagger_2$ $c_2$ - 1 * $c^\\dagger_3$ $c_3$"
   ]
  },
  {
   "cell_type": "code",
   "execution_count": 43,
   "metadata": {},
   "outputs": [
    {
     "name": "stdout",
     "output_type": "stream",
     "text": [
      "PyObject -2.0 [0^ 2] +\n",
      "-2.0 [1^ 3] +\n",
      "-2.0 [2^ 0] +\n",
      "-2.0 [2^ 4] +\n",
      "-2.0 [3^ 1] +\n",
      "-2.0 [3^ 5] +\n",
      "-2.0 [4^ 2] +\n",
      "-2.0 [4^ 6] +\n",
      "-2.0 [5^ 3] +\n",
      "-2.0 [5^ 7] +\n",
      "-2.0 [6^ 4] +\n",
      "-2.0 [6^ 8] +\n",
      "-2.0 [7^ 5] +\n",
      "-2.0 [7^ 9] +\n",
      "-2.0 [8^ 6] +\n",
      "-2.0 [8^ 10] +\n",
      "-2.0 [9^ 7] +\n",
      "-2.0 [9^ 11] +\n",
      "-2.0 [10^ 8] +\n",
      "-2.0 [11^ 9]\n"
     ]
    },
    {
     "data": {
      "text/plain": [
       "924-element Array{Float64,1}:\n",
       " -13.975836829739736\n",
       " -12.195669358089244\n",
       " -12.195669358089237\n",
       " -12.195669358089221\n",
       " -12.195669358089212\n",
       " -10.591793886479588\n",
       " -10.591793886479548\n",
       " -10.591793886479547\n",
       " -10.591793886479545\n",
       " -10.591793886479522\n",
       " -10.591793886479513\n",
       " -10.591793886479511\n",
       " -10.591793886479506\n",
       "   ⋮\n",
       "  10.591793886479522\n",
       "  10.591793886479532\n",
       "  10.591793886479536\n",
       "  10.591793886479545\n",
       "  10.591793886479547\n",
       "  10.591793886479552\n",
       "  10.591793886479554\n",
       "  12.195669358089209\n",
       "  12.19566935808922\n",
       "  12.195669358089221\n",
       "  12.195669358089264\n",
       "  13.975836829739738"
      ]
     },
     "execution_count": 43,
     "metadata": {},
     "output_type": "execute_result"
    }
   ],
   "source": [
    "#ハバードモデルハミルトニアンを定義し、対角化まで行う\n",
    "nsite = 6 #サイトの数\n",
    "n_qubit = 2*nsite #量子ビットの数\n",
    "U = 0.0\n",
    "t = -2.0\n",
    "\n",
    "#ハーフフィリングを仮定(電子数 = サイトの数)するとケミカルポテンシャルはμ=U/2.マイナスがつくので以下。\n",
    "μ = U/2\n",
    "\n",
    "ham = FermionOperator()\n",
    "#斥力項\n",
    "for i in 1:nsite\n",
    "    #up_index,down_indexの定義は、QC_materialを参照。\n",
    "    up = up_index(i)\n",
    "    down = down_index(i)\n",
    "    ham += FermionOperator(\"$(up)^ $(down)^ $(up) $(down)\", -U) #左側に生成演算子。右際に消滅演算子をもっていく過程で半交換関係が1回でマイナスをつける。\n",
    "end\n",
    "#ホッピング項\n",
    "for i in 1:nsite-1\n",
    "    ham += FermionOperator(\"$(up_index(i+1))^ $(up_index(i))\", t) \n",
    "    ham += FermionOperator(\"$(up_index(i))^ $(up_index(i+1))\", t) \n",
    "    ham += FermionOperator(\"$(down_index(i+1))^ $(down_index(i))\", t) \n",
    "    ham += FermionOperator(\"$(down_index(i))^ $(down_index(i+1))\", t) \n",
    "end\n",
    "\n",
    "#ケミカルポテンシャルの項\n",
    "for i in 1:nsite\n",
    "    up = up_index(i)\n",
    "    down = down_index(i)\n",
    "    ham += FermionOperator(\"$(up)^  $(up) \", -μ) \n",
    "    ham += FermionOperator(\"$(down)^ $(down)\", -μ)\n",
    "end\n",
    "\n",
    "println(ham)　#ハバードモデルハミルトニアンの表示。\n",
    "\n",
    "n_electron = 6　#電子数。ここではハーフフィリングを仮定しているので、電子数はサイトの数と等しくなければならない。\n",
    "@assert mod(n_electron, 2) == 0\n",
    "sparse_mat = get_number_preserving_sparse_operator(ham, n_qubit, n_electron)　#行列の取得\n",
    "\n",
    "using LinearAlgebra\n",
    "enes_ed = eigvals(sparse_mat.toarray())　#対角化を行う\n",
    "enes_ed"
   ]
  },
  {
   "cell_type": "code",
   "execution_count": 44,
   "metadata": {},
   "outputs": [
    {
     "data": {
      "text/plain": [
       "-13.975836829739736"
      ]
     },
     "execution_count": 44,
     "metadata": {},
     "output_type": "execute_result"
    }
   ],
   "source": [
    "#最小固有値\n",
    "EigVal_min = minimum(enes_ed)\n",
    "EigVal_min"
   ]
  },
  {
   "cell_type": "markdown",
   "metadata": {},
   "source": [
    "## Jordan-Wigner展開\n",
    "2サイトのハバードモデルのハミルトニアンを用意し、スピン系にマッピングする。\n",
    "ここではJordan-Wigner展開を用いることとする。"
   ]
  },
  {
   "cell_type": "code",
   "execution_count": 45,
   "metadata": {},
   "outputs": [
    {
     "data": {
      "text/plain": [
       "PyObject (-1+0j) [X0 Z1 X2] +\n",
       "(-1+0j) [Y0 Z1 Y2] +\n",
       "(-1+0j) [X1 Z2 X3] +\n",
       "(-1+0j) [Y1 Z2 Y3] +\n",
       "(-1+0j) [X2 Z3 X4] +\n",
       "(-1+0j) [Y2 Z3 Y4] +\n",
       "(-1+0j) [X3 Z4 X5] +\n",
       "(-1+0j) [Y3 Z4 Y5] +\n",
       "(-1+0j) [X4 Z5 X6] +\n",
       "(-1+0j) [Y4 Z5 Y6] +\n",
       "(-1+0j) [X5 Z6 X7] +\n",
       "(-1+0j) [Y5 Z6 Y7] +\n",
       "(-1+0j) [X6 Z7 X8] +\n",
       "(-1+0j) [Y6 Z7 Y8] +\n",
       "(-1+0j) [X7 Z8 X9] +\n",
       "(-1+0j) [Y7 Z8 Y9] +\n",
       "(-1+0j) [X8 Z9 X10] +\n",
       "(-1+0j) [Y8 Z9 Y10] +\n",
       "(-1+0j) [X9 Z10 X11] +\n",
       "(-1+0j) [Y9 Z10 Y11]"
      ]
     },
     "execution_count": 45,
     "metadata": {},
     "output_type": "execute_result"
    }
   ],
   "source": [
    "#JW変換\n",
    "jw_hamiltonian = jordan_wigner(ham)"
   ]
  },
  {
   "cell_type": "markdown",
   "metadata": {},
   "source": [
    "## Qulacsを用いた分子計算の準備\n",
    "まず、OpenFermionを用いて得たハミルトニアン(jw_hamiltonian)をQulacsで使えるようにする。"
   ]
  },
  {
   "cell_type": "code",
   "execution_count": 46,
   "metadata": {},
   "outputs": [
    {
     "data": {
      "text/plain": [
       "PyObject <qulacs.Observable object at 0x7f9a95b34d70>"
      ]
     },
     "execution_count": 46,
     "metadata": {},
     "output_type": "execute_result"
    }
   ],
   "source": [
    "#Qulacs用のハミルトニアンの作成\n",
    "qulacs_hamiltonian = qulacs.observable.create_observable_from_openfermion_text(jw_hamiltonian.__str__())"
   ]
  },
  {
   "cell_type": "code",
   "execution_count": 47,
   "metadata": {},
   "outputs": [
    {
     "data": {
      "text/plain": [
       "hfstate (generic function with 1 method)"
      ]
     },
     "execution_count": 47,
     "metadata": {},
     "output_type": "execute_result"
    }
   ],
   "source": [
    "hfstate(n_qubit, n_electron) = parse(Int, repeat(\"0\", n_qubit-n_electron) * repeat(\"1\", n_electron), base=2)"
   ]
  },
  {
   "cell_type": "markdown",
   "metadata": {},
   "source": [
    "## Unitary Coupled Cluster (UCC)の概略\n",
    "\n",
    "Hartree-Fock波動関数を $|\\Phi \\rangle$ とすると、Unitary Coupled Cluster（UCC)は以下の形で定義される。\n",
    "$$|\\Psi \\rangle =e^{\\hat{T}-\\hat{T}^{\\dagger}}|\\Phi \\rangle$$\n",
    "これに対して通常のCoupled Cluster（CC）は以下の形を取る。\n",
    "$$|\\Psi \\rangle =e^{\\hat{T}}|\\Phi \\rangle$$\n",
    "最も広く使われるCC or UCCは $\\hat{T}$ を1電子励起 $\\hat{T}_1$ と2電子励起 $\\hat{T}_2$ に限定したCCSD or UCCSDとなっている。\n",
    "CCSDないしUCCSDの $\\hat{T}$ は具体的には次のように定義される。\n",
    "$$\n",
    "\\hat{T} = \\sum_{ai}t^{a}_{i} a^{\\dagger}_a a_i + \n",
    "1/4\\sum_{ab,ij}t^{ab}_{ij} a^{\\dagger}_a a^{\\dagger}_b a_j a_i\n",
    "$$ \n",
    "ここで添字 $a,b$ は仮想軌道を示し、 $i,j$ は占有軌道を示す。\n",
    "\n",
    "\n",
    "CCはHamiltonian $\\hat{H}$ のsimilarity transformation $e^{-\\hat{T}}\\hat{H}e^{T}$ のBCH展開が打ち切れるため古典コンピュータで実装可能である。\n",
    "一方で、UCCは脱励起演算子 $\\hat{T}^{\\dagger}$ のためにBCH展開が打ちきれず無限に続くために古典コンピュータでは計算不可能であるが、\n",
    "$e^{\\hat{T}-\\hat{T}^{\\dagger}}$ はユニタリー変換であるため量子回路で記述できる。\n",
    "ただし、 $e^{\\hat{T}-\\hat{T}^{\\dagger}}$ を量子回路で記述するためにはこのユニタリー演算子をTrotter分解しなくてはならない。\n",
    "しかし、 $T$ の各タームは可換ではないため量子コンピュータでのUCCの実装はトロッター誤差が生じる。\n",
    "ただし、このトロッター誤差はvariationalなアルゴリズムを用いる場合は変数決定の過程で概ね吸収できることがわかっている。\n",
    "そこで実用上まずはトロッターステップを１とした次式が使われる。\n",
    "$$\n",
    "e^{\\hat{T}-\\hat{T}^{\\dagger}} \\approx\n",
    "\\prod^{n_{occ}}_{i>j} \\prod^{n_{vir}}_{a>b}\n",
    "\\{\n",
    "e^{T^{ab}_{ij} a^\\dagger_a a^\\dagger_b a_j a_i - \n",
    "T^{ab*}_{ij} a^\\dagger_i a^\\dagger_j a_b a_a}\n",
    "\\}\n",
    "\\prod^{n_{occ}}_{i} \\prod^{n_{vir}}_{a} \n",
    "\\{\n",
    "e^{T^{a}_{i} a^\\dagger_a a_i -T^{a*}_{i} a^\\dagger_i a_a }\n",
    "\\}\n",
    "$$\n",
    "ここで ${n_{occ}}$ は占有軌道の数を、 $n_{vir}$ は仮想軌道の数を示す。\n",
    "\n"
   ]
  },
  {
   "cell_type": "markdown",
   "metadata": {},
   "source": [
    "## 軌道の最適化\n",
    "軌道の回転を行う。軌道の回転とは、以下の$\\kappa$に関する波動関数の最適化に対応する。（論文（Orbital optimized unitary coupled cluster theory for quantum computer）(4)式より）\n",
    "$$\n",
    "E(A, \\kappa)=\\left\\langle\\Psi\\left|e^{-\\hat{\\kappa}} \\hat{H} e^{\\hat{\\kappa}}\\right| \\Psi\\right\\rangle=\\left\\langle 0\\left|e^{-\\hat{A}} e^{-\\hat{\\kappa}} \\hat{H} e^{\\hat{k}} e^{\\hat{A}}\\right| 0\\right\\rangle\n",
    "$$\n",
    "\n",
    "$$\n",
    "\\hat{\\kappa}=\\sum_{pq}\\kappa_{pq}(\\hat{E_{pq}}-\\hat{E_{qp}})\n",
    "$$\n",
    "ここで $\\hat{E}_{p q}=\\hat{c}_{p, \\alpha}^{\\dagger} \\hat{c}_{q, \\alpha}+\\hat{c}_{p, \\beta}^{\\dagger} \\hat{c}_{q, \\beta}$\n",
    "\n",
    "2サイトのハバードモデルの場合、$\\hat{\\kappa}=\\kappa_02()\n",
    "\n"
   ]
  },
  {
   "cell_type": "code",
   "execution_count": 48,
   "metadata": {},
   "outputs": [
    {
     "data": {
      "text/plain": [
       "update_circuit_param! (generic function with 1 method)"
      ]
     },
     "execution_count": 48,
     "metadata": {},
     "output_type": "execute_result"
    }
   ],
   "source": [
    "function update_circuit_param!(circuit::PyObject, theta_list, theta_offsets)\n",
    "    for (idx, theta) in enumerate(theta_list)\n",
    "        for ioff in 1:theta_offsets[idx][1]\n",
    "            pauli_coef = theta_offsets[idx][3][ioff]\n",
    "            #println(\"debug \", theta_offsets[idx, 2]+ioff, \" \", theta, \" \", pauli_coef)\n",
    "            circuit.set_parameter(theta_offsets[idx][2]+ioff-1, \n",
    "                                  theta*pauli_coef) #量子回路にパラメータをセット\n",
    "        end\n",
    "    end\n",
    "end"
   ]
  },
  {
   "cell_type": "markdown",
   "metadata": {},
   "source": [
    "UCCSDのサーキットを用意し、VQE計算に必要なエネルギーを計算するための関数（cost関数）を用意する。cost関数をscipyのoptimizerにセットすることで、VQEのパラメータ決定が可能になる（この次のセルで実行）。"
   ]
  },
  {
   "cell_type": "code",
   "execution_count": 49,
   "metadata": {},
   "outputs": [
    {
     "name": "stdout",
     "output_type": "stream",
     "text": [
      "Number of Qubits:12\n",
      "Number of Electrons:6\n"
     ]
    },
    {
     "data": {
      "text/plain": [
       "225-element Array{Any,1}:\n",
       " Any[0, 0, Float64[]]\n",
       " Any[0, 0, Float64[]]\n",
       " Any[2, 0, [-0.5, 0.5]]\n",
       " Any[2, 2, [0.5, -0.5]]\n",
       " Any[2, 4, [-0.5, 0.5]]\n",
       " Any[2, 6, [0.5, -0.5]]\n",
       " Any[2, 8, [0.5, -0.5]]\n",
       " Any[2, 10, [0.5, -0.5]]\n",
       " Any[2, 12, [-0.5, 0.5]]\n",
       " Any[2, 14, [0.5, -0.5]]\n",
       " Any[2, 16, [-0.5, 0.5]]\n",
       " Any[2, 18, [-0.5, 0.5]]\n",
       " Any[2, 20, [0.5, -0.5]]\n",
       " ⋮\n",
       " Any[8, 1248, [0.125, -0.125, -0.125, 0.125, -0.125, -0.125, 0.125, 0.125]]\n",
       " Any[8, 1256, [0.125, -0.125, -0.125, -0.125, -0.125, 0.125, 0.125, 0.125]]\n",
       " Any[8, 1264, [0.125, 0.125, -0.125, -0.125, 0.125, -0.125, 0.125, -0.125]]\n",
       " Any[8, 1272, [-0.125, -0.125, 0.125, 0.125, 0.125, 0.125, -0.125, -0.125]]\n",
       " Any[8, 1280, [-0.125, 0.125, 0.125, -0.125, 0.125, -0.125, 0.125, -0.125]]\n",
       " Any[8, 1288, [-0.125, -0.125, 0.125, 0.125, -0.125, 0.125, -0.125, 0.125]]\n",
       " Any[8, 1296, [-0.125, -0.125, 0.125, 0.125, -0.125, 0.125, -0.125, 0.125]]\n",
       " Any[8, 1304, [0.125, 0.125, -0.125, 0.125, -0.125, -0.125, 0.125, -0.125]]\n",
       " Any[8, 1312, [-0.125, 0.125, 0.125, 0.125, 0.125, -0.125, -0.125, -0.125]]\n",
       " Any[8, 1320, [0.125, -0.125, 0.125, -0.125, 0.125, -0.125, 0.125, -0.125]]\n",
       " Any[8, 1328, [0.125, 0.125, -0.125, -0.125, -0.125, -0.125, 0.125, 0.125]]\n",
       " Any[8, 1336, [-0.125, -0.125, -0.125, 0.125, 0.125, 0.125, -0.125, 0.125]]"
      ]
     },
     "execution_count": 49,
     "metadata": {},
     "output_type": "execute_result"
    }
   ],
   "source": [
    "circuit, theta_offsets = uccsd1(n_qubit, n_electron÷2, (n_qubit-n_electron)÷2,true)\n",
    "println(\"Number of Qubits:\", n_qubit)\n",
    "println(\"Number of Electrons:\", n_electron)\n",
    "function cost(theta_list)\n",
    "    state = qulacs.QuantumState(n_qubit) #|0000> を準備\n",
    "    state.set_computational_basis(hfstate(n_qubit, n_electron))# |0011>　\n",
    "    update_circuit_param!(circuit, theta_list, theta_offsets) #量子回路にパラメータをセット\n",
    "    circuit.update_quantum_state(state) #量子回路を状態に作用\n",
    "    qulacs_hamiltonian.get_expectation_value(state) #ハミルトニアンの期待値\n",
    "end\n",
    "theta_offsets"
   ]
  },
  {
   "cell_type": "code",
   "execution_count": 50,
   "metadata": {},
   "outputs": [
    {
     "name": "stdout",
     "output_type": "stream",
     "text": [
      "cost_history[-0.22988060087083056]\n",
      "cost_history=[-0.22988060087083056, -4.1298187656550525, -4.813110173820122, -6.090015587757337, -8.338736991842747, -10.486936385666928, -11.308987564319398, -11.954238620940245, -12.357073293086582, -12.794168648358553, -13.231307679156554, -13.344932700381507, -13.509728116568668, -13.718388381049623, -13.799372462958297, -13.838295109415634, -13.867626400098628, -13.880873882500715, -13.899877494592452, -13.915395329496059, -13.92842070028348, -13.936170384291977, -13.942079508458455, -13.947766378916498, -13.953703586798868, -13.955055990325189, -13.957482593692042, -13.961156651316312, -13.963624970407373, -13.964508114595684, -13.965820725386468, -13.967003624616488, -13.968179244641108, -13.969384696845985, -13.970629444443837, -13.97173166189959, -13.97207160525523, -13.972533374899939, -13.97304965087159, -13.973317324968955, -13.973655633887345, -13.973871866839975, -13.974090834496444, -13.974261661947347, -13.97438075887101, -13.974490274549938, -13.974574963613179, -13.974694668863178, -13.974830784351214, -13.974898218574088, -13.974958476742463, -13.975012848375663, -13.97507132222742, -13.975131684995931, -13.975207059675014, -13.975272787541059, -13.975322265562507, -13.97536947488599, -13.975409829199178, -13.97544223145524, -13.97546909771319, -13.97549243575802, -13.975518743426568, -13.975533906405673, -13.975552184709628, -13.975577488440308, -13.97559691208427, -13.97561782691519, -13.975635390258073, -13.975646070583162, -13.975653417826972, -13.975660460529989, -13.97566807269152, -13.975676586476107, -13.975685791557027, -13.975692757470014, -13.975696928689826, -13.975699609268558, -13.975702434166195, -13.975706208752122, -13.975710298548682, -13.975713745456007, -13.975717662350643, -13.975721542666943, -13.975724716938227, -13.975727501142709, -13.975728623338476, -13.975729514317756, -13.975730535218057, -13.975731872731245, -13.975733885971936, -13.975736067057452, -13.975737693445755, -13.975739178704888, -13.975740270732166, -13.975741969390608, -13.975744295875646, -13.9757461404806, -13.975748750414576, -13.975750524614963, -13.97575115278124, -13.975752192099694, -13.975753287157586, -13.975754157699463, -13.975755275756066, -13.975755864530491, -13.975756761272537, -13.975757989511397, -13.975759661880572, -13.975761442279872, -13.975763740939207, -13.975765710327874, -13.975768087476897, -13.975770108759948, -13.975772773196208, -13.975774962744687, -13.975777395278655, -13.975779036130675, -13.975780221067469, -13.975781556066242, -13.975783750817936, -13.975786300258841, -13.975787518705912, -13.975789371515114, -13.975791212242154, -13.97579260488451, -13.975794227859685, -13.975794924259352, -13.975795545972602, -13.975796218361241, -13.975796775257397, -13.975797675388074, -13.975798843743041, -13.975799748356422, -13.97580111426173, -13.975803211752295, -13.975806029633219, -13.97580818917008, -13.97580983714256, -13.975810827226587, -13.975811785397871, -13.975812936406685, -13.975814146420108, -13.975815658553252, -13.975816242052872, -13.975816519671376, -13.975816627435316, -13.975816741723081, -13.975816900938122, -13.97581715363724, -13.97581759117672, -13.975818339559702, -13.975819536763154, -13.975821043644654, -13.975821883813856, -13.97582255880377, -13.975822678057522, -13.97582278439934, -13.975822889028557, -13.975823025955581, -13.975823098506035, -13.975823173305645, -13.975823257202308, -13.9758233564759, -13.975823502218919, -13.975823713274655, -13.975824003421263, -13.975824429959507, -13.975825195296423, -13.97582630805748, -13.9758271204063, -13.975827367734576, -13.975827496037448, -13.975827527932214, -13.975827571387022, -13.97582763423118, -13.975827733520552, -13.975827823359324, -13.975827853149209, -13.97582790044175, -13.975827970311613, -13.97582804975315, -13.975828162902182, -13.975828341715557, -13.97582864711318, -13.975829100963951, -13.975829384968858, -13.975829522438834, -13.975829613842777, -13.975829637148905, -13.9758296632143, -13.975829679799574, -13.975829698490651, -13.975829717915273, -13.975829752649917, -13.975829807988934, -13.975829878325209, -13.97582996887119, -13.97583008515198, -13.975830207733377, -13.97583030945701, -13.975830387911442, -13.975830483740483, -13.975830583708532, -13.975830703627963, -13.97583072635682, -13.975830761776391, -13.975830783215933, -13.975830785693368, -13.975830788191717, -13.975830791021536, -13.975830795263427, -13.975830800190526, -13.975830804065634, -13.975830808561716, -13.975830813554932, -13.975830822373462, -13.97583083743303, -13.97583086209478, -13.97583089455522, -13.975830937651834, -13.975830998414732, -13.975831063960555, -13.975831108155289, -13.975831128920587, -13.975831146102765, -13.97583116441998, -13.975831166440177, -13.975831169402266, -13.975831174565576, -13.975831183291234, -13.975831195606006, -13.97583120149879, -13.975831209033476, -13.97583122030926, -13.975831238912683, -13.975831249265633, -13.975831262724151, -13.975831280319964, -13.975831302495175, -13.975831328569335, -13.975831353639139, -13.975831394571061, -13.97583142495838, -13.975831444551833, -13.975831471635441, -13.975831509549723, -13.975831547872751, -13.975831581197053, -13.97583162946529, -13.975831659000164, -13.975831665719962, -13.975831678060532, -13.975831695990035, -13.975831704365758, -13.975831711731107, -13.975831717317739, -13.975831721580356, -13.9758317269001, -13.975831732840815, -13.97583173688774, -13.975831750197944, -13.975831759433788, -13.975831767424054, -13.975831777803869, -13.975831794179005, -13.975831819319682, -13.975831837305128, -13.975831852600859, -13.975831865913023, -13.975831875913475, -13.975831890280611, -13.975831908119801, -13.975831919336986, -13.975831930119387, -13.975831931116437, -13.97583193282347, -13.975831945595328]\n"
     ]
    }
   ],
   "source": [
    "#theta_init = zeros(size(theta_offsets)[1])　#最初は全てゼロ。つまりIdentityを作用させる。\n",
    "theta_init = rand(size(theta_offsets)[1])\n",
    "cost_history = Float64[] #コスト関数の箱\n",
    "init_theta_list = theta_init\n",
    "push!(cost_history, cost(init_theta_list))\n",
    "println(\"cost_history\", cost_history)\n",
    "\n",
    "method = \"BFGS\"\n",
    "options = Dict(\"disp\" => true, \"maxiter\" => 50, \"gtol\" => 1e-5)\n",
    "callback(x) = push!(cost_history, cost(x))\n",
    "opt = scipy_opt.minimize(cost, init_theta_list, method=method, callback=callback)\n",
    "println(\"cost_history=\",cost_history)"
   ]
  },
  {
   "cell_type": "markdown",
   "metadata": {},
   "source": [
    "VQE計算を実行。"
   ]
  },
  {
   "cell_type": "markdown",
   "metadata": {},
   "source": [
    "VQEの収束状況をプロットする。"
   ]
  },
  {
   "cell_type": "code",
   "execution_count": 51,
   "metadata": {},
   "outputs": [
    {
     "data": {
      "image/png": "[encoded data removed]",
      "text/plain": [
       "PyPlot.Figure(PyObject <Figure size 640x480 with 1 Axes>)"
      ]
     },
     "metadata": {},
     "output_type": "display_data"
    }
   ],
   "source": [
    "import PyPlot\n",
    "PyPlot.plot(cost_history, color=\"red\", label=\"VQE\")\n",
    "PyPlot.plot(1:length(cost_history), fill(EigVal_min, length(cost_history)),\n",
    "    linestyle=\"dashed\", color=\"black\", label=\"Exact Solution\")\n",
    "PyPlot.xlabel(\"Iteration\")\n",
    "PyPlot.ylabel(\"Energy expectation value\")\n",
    "PyPlot.legend()\n",
    "PyPlot.show()"
   ]
  },
  {
   "cell_type": "code",
   "execution_count": 14,
   "metadata": {},
   "outputs": [
    {
     "data": {
      "text/plain": [
       "make_rdm1 (generic function with 1 method)"
      ]
     },
     "execution_count": 14,
     "metadata": {},
     "output_type": "execute_result"
    }
   ],
   "source": [
    "divide_real_imag_openfermion(op) = \n",
    "    (op+of.utils.hermitian_conjugated(op))/2, (op-of.utils.hermitian_conjugated(op))/2im\n",
    "\n",
    "function make_rdm1(state, n_qubit)\n",
    "    one_rdm = zeros(Complex{Float64}, n_qubit, n_qubit)\n",
    "    for p in 1:n_qubit, q in 1:n_qubit\n",
    "        jw_hamiltonian = jordan_wigner(of.ops.FermionOperator(((p-1, 1), (q-1, 0))))\n",
    "        her, antiher = divide_real_imag_openfermion(jw_hamiltonian)\n",
    "        qulacs_hamiltonian_real = convert_openfermion_op(n_qubit, her)\n",
    "        qulacs_hamiltonian_imag = convert_openfermion_op(n_qubit, antiher)\n",
    "        pq_one_rdm_real = qulacs_hamiltonian_real.get_expectation_value(state)\n",
    "        pq_one_rdm_imag = qulacs_hamiltonian_imag.get_expectation_value(state)\n",
    "        one_rdm[p, q] = pq_one_rdm_real + pq_one_rdm_imag * im\n",
    "    end\n",
    "    one_rdm\n",
    "end"
   ]
  },
  {
   "cell_type": "markdown",
   "metadata": {},
   "source": [
    "## 縮約密度行列の計算法\n",
    "以下のコードブロックでは、VQE波動関数から１次の縮約密度行列\n",
    "$$\n",
    "\\gamma_{pq} =\n",
    "\\langle \\Psi |\n",
    "a^{\\dagger}_p a_q\n",
    "|\\Psi \\rangle \n",
    "$$\n",
    "を計算する方法を示す。"
   ]
  },
  {
   "cell_type": "code",
   "execution_count": 15,
   "metadata": {},
   "outputs": [
    {
     "name": "stdout",
     "output_type": "stream",
     "text": [
      "RDM of HF\n",
      "Complex{Float64}[1.0 + 0.0im 0.0 + 0.0im 0.0 + 0.0im 0.0 + 0.0im; 0.0 + 0.0im 0.0 + 0.0im 0.0 + 0.0im 0.0 + 0.0im; 0.0 + 0.0im 0.0 + 0.0im 0.0 + 0.0im 0.0 + 0.0im; 0.0 + 0.0im 0.0 + 0.0im 0.0 + 0.0im 0.0 + 0.0im]\n",
      "Number of electrons (HF)\n",
      "1.0\n",
      "RDM of UCCSD\n",
      "Complex{Float64}[1.0 + 0.0im 0.0 + 0.0im 0.0 + 0.0im 0.0 + 0.0im; 0.0 + 0.0im 0.0 + 0.0im 0.0 + 0.0im 0.0 + 0.0im; 0.0 + 0.0im 0.0 + 0.0im 0.0 + 0.0im 0.0 + 0.0im; 0.0 + 0.0im 0.0 + 0.0im 0.0 + 0.0im 0.0 + 0.0im]\n",
      "Number of electrons (UCCSD)\n",
      "1.0\n"
     ]
    }
   ],
   "source": [
    "import LinearAlgebra\n",
    "\n",
    "state = qulacs.QuantumState(n_qubit) \n",
    "state.set_computational_basis(hfstate(n_qubit, n_electron))# Hartree-Fock State\n",
    "rdm_hf = make_rdm1(state, n_qubit)\n",
    "println(\"RDM of HF\")\n",
    "println(rdm_hf)\n",
    "println(\"Number of electrons (HF)\")\n",
    "println(real(LinearAlgebra.tr(rdm_hf)))\n",
    "\n",
    "circuit.update_quantum_state(state) #量子回路を状態に作用\n",
    "rdm_uccsd = make_rdm1(state, n_qubit)\n",
    "println(\"RDM of UCCSD\")\n",
    "println(rdm_uccsd)\n",
    "println(\"Number of electrons (UCCSD)\")\n",
    "println(real(LinearAlgebra.tr(rdm_hf)))    "
   ]
  },
  {
   "cell_type": "code",
   "execution_count": null,
   "metadata": {},
   "outputs": [],
   "source": []
  },
  {
   "cell_type": "code",
   "execution_count": null,
   "metadata": {},
   "outputs": [],
   "source": []
  },
  {
   "cell_type": "code",
   "execution_count": null,
   "metadata": {},
   "outputs": [],
   "source": []
  }
 ],
 "metadata": {
  "kernelspec": {
   "display_name": "Julia 1.5.2",
   "language": "julia",
   "name": "julia-1.5"
  },
  "language_info": {
   "file_extension": ".jl",
   "mimetype": "application/julia",
   "name": "julia",
   "version": "1.5.2"
  }
 },
 "nbformat": 4,
 "nbformat_minor": 4
}
