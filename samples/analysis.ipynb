{
 "cells": [
  {
   "cell_type": "code",
   "execution_count": 2,
   "metadata": {},
   "outputs": [],
   "source": [
    "using Revise"
   ]
  },
  {
   "cell_type": "code",
   "execution_count": 3,
   "metadata": {},
   "outputs": [],
   "source": [
    "import QCMaterial: uccgsd, convert_openfermion_op, up_index, down_index"
   ]
  },
  {
   "cell_type": "code",
   "execution_count": 4,
   "metadata": {},
   "outputs": [],
   "source": [
    "using PyCall\n",
    "using HDF5"
   ]
  },
  {
   "cell_type": "code",
   "execution_count": 5,
   "metadata": {},
   "outputs": [
    {
     "data": {
      "text/plain": [
       "PyObject <class 'openfermion.ops.operators.fermion_operator.FermionOperator'>"
      ]
     },
     "execution_count": 5,
     "metadata": {},
     "output_type": "execute_result"
    }
   ],
   "source": [
    "plt = pyimport(\"matplotlib.pyplot\")\n",
    "of = pyimport(\"openfermion\")\n",
    "ofpyscf = pyimport(\"openfermionpyscf\")\n",
    "qulacs = pyimport(\"qulacs\")\n",
    "scipy_opt = pyimport(\"scipy.optimize\")\n",
    "get_fermion_operator = of.transforms.get_fermion_operator\n",
    "jordan_wigner = of.transforms.jordan_wigner\n",
    "jw_get_ground_state_at_particle_number = of.linalg.sparse_tools.jw_get_ground_state_at_particle_number\n",
    "get_number_preserving_sparse_operator = of.linalg.get_number_preserving_sparse_operator\n",
    "FermionOperator = of.ops.operators.FermionOperator"
   ]
  },
  {
   "cell_type": "code",
   "execution_count": 6,
   "metadata": {},
   "outputs": [],
   "source": [
    "includet(\"./uccgsd_hubbard.jl\")"
   ]
  },
  {
   "cell_type": "code",
   "execution_count": 7,
   "metadata": {},
   "outputs": [
    {
     "data": {
      "text/plain": [
       "4"
      ]
     },
     "execution_count": 7,
     "metadata": {},
     "output_type": "execute_result"
    }
   ],
   "source": [
    "nsite = 2\n",
    "ham = generate_ham(nsite)\n",
    "n_qubit = 2*nsite"
   ]
  },
  {
   "cell_type": "code",
   "execution_count": 8,
   "metadata": {},
   "outputs": [],
   "source": [
    "theta_list = h5read(\"opt.h5\", \"theta_list\")\n",
    "exact_gs_ene = h5read(\"opt.h5\", \"exact_gs_ene\")\n",
    "cost_history = h5read(\"opt.h5\", \"cost_history\")\n",
    "n_electron = h5read(\"opt.h5\", \"n_electron\")\n",
    ";"
   ]
  },
  {
   "cell_type": "markdown",
   "metadata": {},
   "source": [
    "VQEの収束状況をプロットする。"
   ]
  },
  {
   "cell_type": "code",
   "execution_count": 9,
   "metadata": {},
   "outputs": [
    {
     "data": {
      "image/png": "[encoded data removed]",
      "text/plain": [
       "PyPlot.Figure(PyObject <Figure size 640x480 with 1 Axes>)"
      ]
     },
     "metadata": {},
     "output_type": "display_data"
    }
   ],
   "source": [
    "import PyPlot\n",
    "\n",
    "PyPlot.plot(cost_history, color=\"red\", label=\"VQE\")\n",
    "PyPlot.plot(1:length(cost_history), fill(exact_gs_ene, length(cost_history)),\n",
    "    linestyle=\"dashed\", color=\"black\", label=\"Exact Solution\")\n",
    "PyPlot.xlabel(\"Iteration\")\n",
    "PyPlot.ylabel(\"Energy expectation value\")\n",
    "PyPlot.legend()\n",
    "PyPlot.show()"
   ]
  },
  {
   "cell_type": "code",
   "execution_count": 11,
   "metadata": {},
   "outputs": [
    {
     "data": {
      "text/plain": [
       "(PyObject *** Quantum Circuit Info ***\n",
       "# of qubit: 4\n",
       "# of step : 336\n",
       "# of gate : 336\n",
       "# of 1 qubit gate: 0\n",
       "# of 2 qubit gate: 44\n",
       "# of 3 qubit gate: 64\n",
       "# of 4 qubit gate: 228\n",
       "Clifford  : no\n",
       "Gaussian  : no\n",
       "\n",
       "*** Parameter Info ***\n",
       "# of parameter: 336\n",
       ", Any[Any[2, 0, [-0.5, 0.5]], Any[2, 2, [0.5, -0.5]], Any[2, 4, [-0.5, 0.5]], Any[2, 6, [0.5, -0.5]], Any[2, 8, [-0.5, 0.5]], Any[2, 10, [0.5, -0.5]], Any[2, 12, [-0.5, 0.5]], Any[2, 14, [0.5, -0.5]], Any[0, 16, Float64[]], Any[4, 16, [0.25, 0.25, -0.25, -0.25]]  …  Any[8, 292, [0.125, 0.125, 0.125, -0.125, -0.125, -0.125, -0.125, 0.125]], Any[4, 300, [0.25, -0.25, 0.25, -0.25]], Any[4, 304, [-0.25, -0.25, 0.25, 0.25]], Any[8, 308, [-0.125, -0.125, -0.125, 0.125, 0.125, 0.125, 0.125, -0.125]], Any[8, 316, [-0.125, -0.125, 0.125, -0.125, 0.125, -0.125, 0.125, 0.125]], Any[4, 324, [-0.25, 0.25, -0.25, 0.25]], Any[0, 328, Float64[]], Any[4, 328, [-0.25, 0.25, -0.25, 0.25]], Any[4, 332, [0.25, -0.25, 0.25, -0.25]], Any[0, 336, Float64[]]], PyObject <qulacs.Observable object at 0x1544cfa23f30>)"
      ]
     },
     "execution_count": 11,
     "metadata": {},
     "output_type": "execute_result"
    }
   ],
   "source": [
    "circuit, theta_offsets, qulacs_hamiltonian = construct_circuit(ham)"
   ]
  },
  {
   "cell_type": "code",
   "execution_count": 12,
   "metadata": {},
   "outputs": [
    {
     "data": {
      "text/plain": [
       "make_rdm1 (generic function with 1 method)"
      ]
     },
     "execution_count": 12,
     "metadata": {},
     "output_type": "execute_result"
    }
   ],
   "source": [
    "divide_real_imag_openfermion(op) = \n",
    "    (op+of.utils.hermitian_conjugated(op))/2, (op-of.utils.hermitian_conjugated(op))/2im\n",
    "\n",
    "function make_rdm1(state, n_qubit)\n",
    "    one_rdm = zeros(Complex{Float64}, n_qubit, n_qubit)\n",
    "    for p in 1:n_qubit, q in 1:n_qubit\n",
    "        jw_hamiltonian = jordan_wigner(of.ops.FermionOperator(((p-1, 1), (q-1, 0))))\n",
    "        her, antiher = divide_real_imag_openfermion(jw_hamiltonian)\n",
    "        qulacs_hamiltonian_real = convert_openfermion_op(n_qubit, her)\n",
    "        qulacs_hamiltonian_imag = convert_openfermion_op(n_qubit, antiher)\n",
    "        pq_one_rdm_real = qulacs_hamiltonian_real.get_expectation_value(state)\n",
    "        pq_one_rdm_imag = qulacs_hamiltonian_imag.get_expectation_value(state)\n",
    "        one_rdm[p, q] = pq_one_rdm_real + pq_one_rdm_imag * im\n",
    "    end\n",
    "    one_rdm\n",
    "end"
   ]
  },
  {
   "cell_type": "markdown",
   "metadata": {},
   "source": [
    "## 縮約密度行列の計算法\n",
    "以下のコードブロックでは、VQE波動関数から１次の縮約密度行列\n",
    "$$\n",
    "\\gamma_{pq} =\n",
    "\\langle \\Psi |\n",
    "a^{\\dagger}_p a_q\n",
    "|\\Psi \\rangle \n",
    "$$\n",
    "を計算する方法を示す。"
   ]
  },
  {
   "cell_type": "code",
   "execution_count": 13,
   "metadata": {},
   "outputs": [
    {
     "name": "stdout",
     "output_type": "stream",
     "text": [
      "RDM of HF\n",
      "Complex{Float64}[1.0 + 0.0im 0.0 + 0.0im 0.0 + 0.0im 0.0 + 0.0im; 0.0 + 0.0im 1.0 + 0.0im 0.0 + 0.0im 0.0 + 0.0im; 0.0 + 0.0im 0.0 + 0.0im 0.0 + 0.0im 0.0 + 0.0im; 0.0 + 0.0im 0.0 + 0.0im 0.0 + 0.0im 0.0 + 0.0im]\n",
      "Number of electrons (HF)\n",
      "2.0\n",
      "RDM of UCCSD\n",
      "Complex{Float64}[1.0 + 0.0im 0.0 + 0.0im 0.0 + 0.0im 0.0 + 0.0im; 0.0 + 0.0im 1.0 + 0.0im 0.0 + 0.0im 0.0 + 0.0im; 0.0 + 0.0im 0.0 + 0.0im 0.0 + 0.0im 0.0 + 0.0im; 0.0 + 0.0im 0.0 + 0.0im 0.0 + 0.0im 0.0 + 0.0im]\n",
      "Number of electrons (UCCSD)\n",
      "2.0\n"
     ]
    }
   ],
   "source": [
    "import LinearAlgebra\n",
    "\n",
    "state = qulacs.QuantumState(n_qubit) \n",
    "state.set_computational_basis(hfstate(n_qubit, n_electron))# Hartree-Fock State\n",
    "rdm_hf = make_rdm1(state, n_qubit)\n",
    "println(\"RDM of HF\")\n",
    "println(rdm_hf)\n",
    "println(\"Number of electrons (HF)\")\n",
    "println(real(LinearAlgebra.tr(rdm_hf)))\n",
    "\n",
    "circuit.update_quantum_state(state) #量子回路を状態に作用\n",
    "rdm_uccsd = make_rdm1(state, n_qubit)\n",
    "println(\"RDM of UCCSD\")\n",
    "println(rdm_uccsd)\n",
    "println(\"Number of electrons (UCCSD)\")\n",
    "println(real(LinearAlgebra.tr(rdm_hf)))    "
   ]
  },
  {
   "cell_type": "code",
   "execution_count": null,
   "metadata": {},
   "outputs": [],
   "source": []
  },
  {
   "cell_type": "code",
   "execution_count": null,
   "metadata": {},
   "outputs": [],
   "source": []
  },
  {
   "cell_type": "code",
   "execution_count": null,
   "metadata": {},
   "outputs": [],
   "source": []
  }
 ],
 "metadata": {
  "kernelspec": {
   "display_name": "Julia 1.4.1",
   "language": "julia",
   "name": "julia-1.4"
  },
  "language_info": {
   "file_extension": ".jl",
   "mimetype": "application/julia",
   "name": "julia",
   "version": "1.4.1"
  }
 },
 "nbformat": 4,
 "nbformat_minor": 4
}
